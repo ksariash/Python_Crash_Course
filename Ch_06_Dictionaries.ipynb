{
  "cells": [
    {
      "cell_type": "markdown",
      "metadata": {
        "id": "view-in-github",
        "colab_type": "text"
      },
      "source": [
        "<a href=\"https://colab.research.google.com/github/ksariash/Python_Crash_Course/blob/main/Ch_06_Dictionaries.ipynb\" target=\"_parent\"><img src=\"https://colab.research.google.com/assets/colab-badge.svg\" alt=\"Open In Colab\"/></a>"
      ]
    },
    {
      "cell_type": "markdown",
      "metadata": {
        "id": "zpISEU4Osmbx"
      },
      "source": [
        "# Dictionaries\n",
        "- Dictionaries: Is an unordered collection of data values, used to store data values like a map. In Python dictionaries are written with curly brackets, and they have keys and values. \n",
        "- A Dictionary can grow and shrink as needed.\n",
        "- A dictionary can contain another dictionary or a list.\n",
        "\n",
        "- A dictionary in Python is a collection of `key-value pairs`. Each key is connected to a value, and you can use a key to access the value associated with that key.\n",
        "- A key’s value can be a number, a string, a list, or even another dictionary.\n",
        "\n",
        "- A `key-value` pair is a set of values associated with each other. When you provide a key, Python returns the value associated with that key. Every key is connected to its value by a colon, and individual key-value pairs are separated\n",
        "by commas."
      ]
    },
    {
      "cell_type": "markdown",
      "metadata": {
        "id": "JReDLsEWsmb_"
      },
      "source": [
        "### Getting Values in a Dictionary"
      ]
    },
    {
      "cell_type": "code",
      "execution_count": null,
      "metadata": {
        "id": "4zuRd0XNsmcA"
      },
      "outputs": [],
      "source": [
        "alien_0 = {'color': 'green'}\n",
        "print(alien_0['color'])"
      ]
    },
    {
      "cell_type": "code",
      "execution_count": null,
      "metadata": {
        "id": "_jlp5j0nsmcC"
      },
      "outputs": [],
      "source": [
        "# Two `key-value pairs`\n",
        "alien_0 = {'color': 'green', 'points': 5}"
      ]
    },
    {
      "cell_type": "code",
      "execution_count": null,
      "metadata": {
        "id": "mcWRUtelsmcC"
      },
      "outputs": [],
      "source": [
        "new_points = alien_0['points']\n",
        "print(\"You just earned \" + str(new_points) + \" points!\")"
      ]
    },
    {
      "cell_type": "code",
      "execution_count": null,
      "metadata": {
        "id": "PyHrvKCysmcD"
      },
      "outputs": [],
      "source": [
        "print(\"You just earned \" +  str(alien_0['points']) + \" points!\")"
      ]
    },
    {
      "cell_type": "code",
      "execution_count": null,
      "metadata": {
        "id": "ApUXp-xHsmcD"
      },
      "outputs": [],
      "source": [
        "# We will get an error if we don't convert the numeric value to a string\n",
        "print(\"You just earned \" + alien_0['points'] + \" points!\")"
      ]
    },
    {
      "cell_type": "markdown",
      "metadata": {
        "id": "hAGdhCsusmcE"
      },
      "source": [
        "### Adding New Key-Value Pairs\n",
        "Dictionaries are dynamic structures, and you can add new key-value pairs to a dictionary at any time."
      ]
    },
    {
      "cell_type": "code",
      "execution_count": null,
      "metadata": {
        "id": "1prybSWBsmcF"
      },
      "outputs": [],
      "source": [
        "alien_0 = {'color': 'green', 'points': 5}\n",
        "print(alien_0)\n"
      ]
    },
    {
      "cell_type": "code",
      "execution_count": null,
      "metadata": {
        "id": "mCuIFvCXsmcG"
      },
      "outputs": [],
      "source": [
        "# Adding New Key-Value Pairs\n",
        "alien_0['x_position'] = 0\n",
        "alien_0['y_position'] = 25\n",
        "print(alien_0)"
      ]
    },
    {
      "cell_type": "markdown",
      "metadata": {
        "id": "fe2ku7QismcH"
      },
      "source": [
        "### Starting with an Empty Dictionary\n",
        "- It’s sometimes convenient, or even necessary, to start with an empty dictionary and then add each new item to it. \n",
        "- To start filling an empty dictionary, define a `dictionary` with an `empty set of braces` and then add each key-value\n",
        "pair on its own line."
      ]
    },
    {
      "cell_type": "code",
      "execution_count": null,
      "metadata": {
        "id": "o4L4EzmMsmcH"
      },
      "outputs": [],
      "source": [
        "alien_0 = {}\n",
        "\n",
        "alien_0['color'] = 'green'\n",
        "alien_0['points'] = 5\n",
        "print(alien_0)"
      ]
    },
    {
      "cell_type": "code",
      "execution_count": null,
      "metadata": {
        "id": "5VblSL4ysmcI"
      },
      "outputs": [],
      "source": [
        "print(alien_0)"
      ]
    },
    {
      "cell_type": "markdown",
      "metadata": {
        "id": "8TLFrDk6smcI"
      },
      "source": [
        "### Modifying Values in a Dictionary\n",
        "- To modify a value in a dictionary, give the name of the dictionary with the key in square brackets and then the new value you want associated with that key."
      ]
    },
    {
      "cell_type": "code",
      "execution_count": null,
      "metadata": {
        "id": "U3dqfPKzsmcJ"
      },
      "outputs": [],
      "source": [
        "# First version of my dictionary\n",
        "alien_0 = {'color': 'green'}\n",
        "print(\"The alien is \" + alien_0['color'] + \".\")\n",
        "\n",
        "#Second version of my dictionary\n",
        "alien_0['color'] = 'yellow'\n",
        "print(\"The alien is now \" + alien_0['color'] + \".\")"
      ]
    },
    {
      "cell_type": "markdown",
      "metadata": {
        "id": "KzHSeyZcsmcJ"
      },
      "source": [
        "#### Another example"
      ]
    },
    {
      "cell_type": "code",
      "execution_count": null,
      "metadata": {
        "id": "pq2W2I9AsmcK"
      },
      "outputs": [],
      "source": [
        "alien_0= {'xPosition': 0, 'yPosition': 25, 'speed': 'medium'}\n",
        "\n",
        "print('Original xPosition:' + str(alien_0['xPosition']))"
      ]
    },
    {
      "cell_type": "code",
      "execution_count": null,
      "metadata": {
        "id": "n326SUTTsmcK"
      },
      "outputs": [],
      "source": [
        "# Move the alien to the right.\n",
        "# Determine how far to move the alien based on its current speed.\n",
        "if alien_0['speed'] == 'slow':\n",
        "    x_increment = 1\n",
        "elif alien_0['speed'] == 'medium':\n",
        "    x_increment = 2\n",
        "else:\n",
        "    # This must be a fast alien.\n",
        "    x_increment = 3\n",
        "\n",
        "# The new position is the old position plus the increment.\n",
        "alien_0['xPosition'] = alien_0['xPosition'] + x_increment\n",
        "print(\"New xPosition: \" + str(alien_0['xPosition']))"
      ]
    },
    {
      "cell_type": "markdown",
      "metadata": {
        "id": "Ef9nf8SHsmcL"
      },
      "source": [
        "### Removing Key-Value Pairs\n",
        "- When you no longer need a piece of information that’s stored in a dictionary, you can use the del statement to completely remove a key-value pair.\n",
        "- All `del` needs is the name of the dictionary and the key that you want to remove."
      ]
    },
    {
      "cell_type": "code",
      "execution_count": null,
      "metadata": {
        "id": "qIwq3V7UsmcL"
      },
      "outputs": [],
      "source": [
        "alien_0 = {'color': 'green', 'points': 5}\n",
        "print(alien_0)\n",
        "\n",
        "del alien_0['points']\n",
        "print(alien_0)"
      ]
    },
    {
      "cell_type": "markdown",
      "metadata": {
        "id": "0wUdFNbCsmcL"
      },
      "source": [
        "### A Dictionary of Similar Objects\n",
        "We can use a `dictionary` to store one kind of information about many objects."
      ]
    },
    {
      "cell_type": "code",
      "execution_count": null,
      "metadata": {
        "id": "lM5GiDZBsmcM"
      },
      "outputs": [],
      "source": [
        "# Each key is the name of a person who responded to a poll, and each value is their language choice.\n",
        "favorite_languages = {\n",
        "'jen': 'python',\n",
        "'sarah': 'c',\n",
        "'edward': 'ruby',\n",
        "'phil': 'python',\n",
        "}"
      ]
    },
    {
      "cell_type": "code",
      "execution_count": null,
      "metadata": {
        "id": "oZ5v7ZWZsmcM"
      },
      "outputs": [],
      "source": [
        "# To use this dictionary, given the name of a person who took the poll, we can easily look up their favorite language:\n",
        "print(\"Sarah's favorite language is \" + favorite_languages['sarah'].title() + \".\")"
      ]
    },
    {
      "cell_type": "code",
      "execution_count": null,
      "metadata": {
        "id": "BHXlHdZssmcN"
      },
      "outputs": [],
      "source": [
        "print(favorite_languages['edward'])"
      ]
    },
    {
      "cell_type": "markdown",
      "metadata": {
        "id": "_tUwEakAsmcN"
      },
      "source": [
        "### Looping Through All Key-Value Pairs"
      ]
    },
    {
      "cell_type": "code",
      "execution_count": null,
      "metadata": {
        "id": "2f9XUqy2smcN"
      },
      "outputs": [],
      "source": [
        "# New dictionary designed to store information about a user on a website.\n",
        "user_0 = {\n",
        "'username': 'efermi',\n",
        "'first': 'enrico',\n",
        "'last': 'fermi',\n",
        "}"
      ]
    },
    {
      "cell_type": "code",
      "execution_count": null,
      "metadata": {
        "id": "QYMnCR9GsmcO"
      },
      "outputs": [],
      "source": [
        "for key, value in user_0.items():\n",
        "    print(\"\\nKey: \" + key)\n",
        "    print(\"Value: \" + value)"
      ]
    },
    {
      "cell_type": "markdown",
      "metadata": {
        "id": "IBrENWhhsmcO"
      },
      "source": [
        "#### Another example"
      ]
    },
    {
      "cell_type": "code",
      "execution_count": null,
      "metadata": {
        "id": "E2wsNNL4smcO"
      },
      "outputs": [],
      "source": [
        "favorite_languages = {\n",
        "'jen': 'python',\n",
        "'sarah': 'c',\n",
        "'edward': 'ruby',\n",
        "'phil': 'python',\n",
        "}"
      ]
    },
    {
      "cell_type": "code",
      "execution_count": null,
      "metadata": {
        "id": "oLYbKMJ8smcP"
      },
      "outputs": [],
      "source": [
        "# Looping Through All Key-Value Pairs We will loop through the favorite_languages dictionary, \n",
        "# we will get the name of each person in the dictionary and their favorite programming language\n",
        "\n",
        "for name, language in favorite_languages.items():\n",
        "    print(name.title() + \"'s favorite language is \" + language.title() + \".\")"
      ]
    },
    {
      "cell_type": "markdown",
      "metadata": {
        "id": "d3Mj35SCsmcP"
      },
      "source": [
        "### Looping Through All the Keys in a Dictionary"
      ]
    },
    {
      "cell_type": "markdown",
      "metadata": {
        "id": "RM3DC6x5smcP"
      },
      "source": [
        "The `keys()` method is useful when you don’t need to work with all of the values in a dictionary. Let’s loop through the favorite_languages dictionary and print the names of everyone who took the poll."
      ]
    },
    {
      "cell_type": "code",
      "execution_count": null,
      "metadata": {
        "id": "SfHUjFomsmcP"
      },
      "outputs": [],
      "source": [
        "# The line tells Python to pull all the keys from the dictionary favorite_languages and store them one \n",
        "# at a time in the variable name.\n",
        "for name in favorite_languages.keys():\n",
        "    print(name.title())\n"
      ]
    },
    {
      "cell_type": "markdown",
      "metadata": {
        "id": "FL43lTmMsmcQ"
      },
      "source": [
        "#### Another way to do the same\n",
        "You can choose to use the `keys()` method explicitly if it makes your code easier to read, or you can omit it if you wish."
      ]
    },
    {
      "cell_type": "code",
      "execution_count": null,
      "metadata": {
        "id": "uNhTc_gOsmcQ"
      },
      "outputs": [],
      "source": [
        "# Looping through the keys is actually the default behavior when looping\n",
        "# through a dictionary, so this code would have exactly the same output.\n",
        "\n",
        "for name in favorite_languages:\n",
        "    print(name.title())"
      ]
    },
    {
      "cell_type": "markdown",
      "metadata": {
        "id": "y8YAz8DosmcQ"
      },
      "source": [
        "#### `if` statement within `for` loop"
      ]
    },
    {
      "cell_type": "code",
      "execution_count": null,
      "metadata": {
        "id": "J7eLIfqGsmcR"
      },
      "outputs": [],
      "source": [
        "# Let’s print a message to a couple of friends about the languages they chose. We’ll loop through\n",
        "# the names in the dictionary as we did previously, but when the name matches one of our friends, we’ll\n",
        "# display a message about their favorite language:\n",
        "\n",
        "favorite_languages = {\n",
        "'jen': 'python',\n",
        "'sarah': 'c',\n",
        "'edward': 'ruby',\n",
        "'phil': 'python',\n",
        "}\n",
        "    \n",
        "friends = ['phil', 'sarah']\n",
        "\n",
        "for name in favorite_languages.keys():\n",
        "    print(name.title())\n",
        "    \n",
        "    if name in friends:\n",
        "        print(\"  Hi \" + name.title() +\n",
        "        \", I see your favorite language is \" +\n",
        "        favorite_languages[name].title() + \"!\")\n",
        "        "
      ]
    },
    {
      "cell_type": "code",
      "execution_count": null,
      "metadata": {
        "id": "qmdvsOyvsmcR"
      },
      "outputs": [],
      "source": [
        "# We can also use the keys() method to find out if a particular person was polled.\n",
        "favorite_languages = {\n",
        "'jen': 'python',\n",
        "'sarah': 'c',\n",
        "'edward': 'ruby',\n",
        "'phil': 'python',\n",
        "}\n",
        "\n",
        "if 'erin' not in favorite_languages.keys():\n",
        "    print(\"Erin, please take our poll!\")"
      ]
    },
    {
      "cell_type": "markdown",
      "metadata": {
        "id": "GiSMaaowsmcR"
      },
      "source": [
        "### Looping Through a `Dictionary’s Keys` in Order\n",
        "A `dictionary` always maintains a clear `connection between each key and its associated value`, but you never get the items from a dictionary in any predictable order. That’s not a problem, because we’ll usually just want to obtain the correct value associated with each key."
      ]
    },
    {
      "cell_type": "code",
      "execution_count": null,
      "metadata": {
        "id": "CaXZ2wGSsmcR"
      },
      "outputs": [],
      "source": [
        "favorite_languages = {\n",
        "'jen': 'python',\n",
        "'sarah': 'c',\n",
        "'edward': 'ruby',\n",
        "'phil': 'python',\n",
        "}\n",
        "for name in sorted(favorite_languages.keys()):\n",
        "    print(name.title() + \", thank you for taking the poll.\")"
      ]
    },
    {
      "cell_type": "markdown",
      "metadata": {
        "id": "7aWOAH9fsmcS"
      },
      "source": [
        "### Looping Through All Values in a Dictionary\n",
        "We can use the `values()` method to return a list of values without any keys."
      ]
    },
    {
      "cell_type": "code",
      "execution_count": null,
      "metadata": {
        "id": "yZ0q4vAHsmcS"
      },
      "outputs": [],
      "source": [
        "favorite_languages = {\n",
        "'jen': 'python',\n",
        "'sarah': 'c',\n",
        "'edward': 'ruby',\n",
        "'phil': 'python',\n",
        "}\n",
        "\n",
        "for value in favorite_languages.values():\n",
        "    print(value)"
      ]
    },
    {
      "cell_type": "code",
      "execution_count": null,
      "metadata": {
        "id": "8IaT1-JvsmcS"
      },
      "outputs": [],
      "source": [
        "# This approach print all values in the dictionary as well.\n",
        "for valDic in favorite_languages:\n",
        "    print(favorite_languages[keyDic])"
      ]
    },
    {
      "cell_type": "markdown",
      "metadata": {
        "id": "HP93Q84bsmcS"
      },
      "source": [
        "**The code above** pulls all the values from the dictionary without checking for repeats. To see each language chosen without repetition, we can use a `set`. \n",
        "- A `set` is similar to a list except that each item in the set must be unique. \n",
        "- A `set` is an unordered collection data type that is iterable, mutable and has no duplicates elements."
      ]
    },
    {
      "cell_type": "code",
      "execution_count": null,
      "metadata": {
        "id": "c_T8B6EOsmcT"
      },
      "outputs": [],
      "source": [
        "favorite_languages = {\n",
        "    'jen': 'python',\n",
        "    'sarah': 'c',\n",
        "    'edward': 'ruby',\n",
        "    'phil': 'python',\n",
        "    }\n",
        "print(\"The following languages have been mentioned:\")\n",
        "for language in set(favorite_languages.values()):\n",
        "    print(language.title())"
      ]
    },
    {
      "cell_type": "code",
      "execution_count": null,
      "metadata": {
        "id": "KDIgwZlSsmcT"
      },
      "outputs": [],
      "source": [
        "varSet= set(favorite_languages.values())\n",
        "print(varSet)"
      ]
    },
    {
      "cell_type": "code",
      "execution_count": null,
      "metadata": {
        "id": "ByVzOUuFsmcT"
      },
      "outputs": [],
      "source": [
        "type(varSet)"
      ]
    },
    {
      "cell_type": "markdown",
      "metadata": {
        "id": "X6zwG4dIsmcT"
      },
      "source": [
        "### A list of Dictionaries"
      ]
    },
    {
      "cell_type": "code",
      "execution_count": null,
      "metadata": {
        "id": "nOgrAYnQsmcT"
      },
      "outputs": [],
      "source": [
        "# Sometimes you’ll want to store a set of dictionaries. This is called nesting. You can nest a set\n",
        "# of dictionaries inside a list\n",
        "\n",
        "\n",
        "alien_0 = {'color': 'green', 'points': 5}\n",
        "alien_1 = {'color': 'yellow', 'points': 10}\n",
        "alien_2 = {'color': 'red', 'points': 15}\n",
        "\n",
        "aliens = [alien_0, alien_1, alien_2]\n",
        "for alien in aliens:\n",
        "    print(alien)\n",
        "    \n",
        "\n",
        "print( '\\n')    \n",
        "print(aliens)"
      ]
    },
    {
      "cell_type": "markdown",
      "metadata": {
        "id": "K0xRzojXsmcU"
      },
      "source": [
        "### A List in a Dictionary\n",
        "You can nest a `list inside a dictionary` at any time you want more than one value to be associated with a single key in a dictionary."
      ]
    },
    {
      "cell_type": "code",
      "execution_count": null,
      "metadata": {
        "id": "3bTbWQodsmcU"
      },
      "outputs": [],
      "source": [
        "# sometimes is useful to put a list inside a dictionary\n",
        "# Store information about a pizza being ordered.\n",
        "pizza = {\n",
        "    'crust': 'thick',\n",
        "    'toppings': ['mushrooms', 'extra cheese'],\n",
        "}"
      ]
    },
    {
      "cell_type": "code",
      "execution_count": null,
      "metadata": {
        "id": "pUunrFGLsmcU"
      },
      "outputs": [],
      "source": [
        "# Summarize the order.\n",
        "print(\"You ordered a \" + pizza['crust'] + \"-crust pizza \" +\n",
        "    \"with the following toppings:\")\n",
        "for topping in pizza['toppings']:\n",
        "    print(\"\\t\" + topping)"
      ]
    },
    {
      "cell_type": "markdown",
      "metadata": {
        "id": "4PL0xoclsmcU"
      },
      "source": [
        "#### Another example"
      ]
    },
    {
      "cell_type": "code",
      "execution_count": null,
      "metadata": {
        "id": "0kyahGyvsmcV"
      },
      "outputs": [],
      "source": [
        "favorite_languages = {\n",
        "'jen': ['python', 'ruby'],\n",
        "'sarah': ['c'],\n",
        "'edward': ['ruby', 'go'],\n",
        "'phil': ['python', 'haskell'],\n",
        "}\n",
        "for name, languages in favorite_languages.items():\n",
        "    print(\"\\n\" + name.title() + \"'s favorite languages are:\")\n",
        "for language in languages:\n",
        "    print(\"\\t\" + language.title())"
      ]
    },
    {
      "cell_type": "markdown",
      "metadata": {
        "id": "s7AaU91RsmcV"
      },
      "source": [
        "### A Dictionary in a Dictionary"
      ]
    },
    {
      "cell_type": "code",
      "execution_count": null,
      "metadata": {
        "id": "vUIpAHGksmcV"
      },
      "outputs": [],
      "source": [
        "# You can nest a dictionary inside another dictionary, but your code can get complicated quickly when you do.\n",
        "users ={\n",
        "    'aeinstein':\n",
        "    {\n",
        "        'first': 'albert',\n",
        "        'last': 'einstein',\n",
        "        'location': 'princeton',\n",
        "    },\n",
        "\n",
        "    'mcurie':\n",
        "    {\n",
        "        'first': 'marie',\n",
        "        'last': 'curie',\n",
        "        'location': 'paris',\n",
        "    },\n",
        "}\n",
        "\n",
        "for username, user_info in users.items():\n",
        "    print(\"\\nUsername: \" + username)\n",
        "    full_name = user_info['first'] + \" \" + user_info['last']\n",
        "    location = user_info['location']\n",
        "    print(\"\\tFull name: \" + full_name.title())\n",
        "    print(\"\\tLocation: \" + location.title())"
      ]
    },
    {
      "cell_type": "code",
      "execution_count": null,
      "metadata": {
        "id": "XTAC4jq3smcV"
      },
      "outputs": [],
      "source": [
        ""
      ]
    }
  ],
  "metadata": {
    "kernelspec": {
      "display_name": "Python 3",
      "language": "python",
      "name": "python3"
    },
    "language_info": {
      "codemirror_mode": {
        "name": "ipython",
        "version": 3
      },
      "file_extension": ".py",
      "mimetype": "text/x-python",
      "name": "python",
      "nbconvert_exporter": "python",
      "pygments_lexer": "ipython3",
      "version": "3.7.4"
    },
    "colab": {
      "name": "Ch_06_Dictionaries.ipynb",
      "provenance": [],
      "include_colab_link": true
    }
  },
  "nbformat": 4,
  "nbformat_minor": 0
}