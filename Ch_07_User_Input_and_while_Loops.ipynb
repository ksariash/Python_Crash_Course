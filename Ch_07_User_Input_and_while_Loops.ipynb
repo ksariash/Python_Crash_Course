{
  "cells": [
    {
      "cell_type": "markdown",
      "metadata": {
        "id": "view-in-github",
        "colab_type": "text"
      },
      "source": [
        "<a href=\"https://colab.research.google.com/github/ksariash/Python_Crash_Course/blob/main/Ch_07_User_Input_and_while_Loops.ipynb\" target=\"_parent\"><img src=\"https://colab.research.google.com/assets/colab-badge.svg\" alt=\"Open In Colab\"/></a>"
      ]
    },
    {
      "cell_type": "markdown",
      "metadata": {
        "id": "lLkeUtWusm-5"
      },
      "source": [
        "## Ch_7 User input and while Loops"
      ]
    },
    {
      "cell_type": "markdown",
      "metadata": {
        "id": "oFUFWp-3sm--"
      },
      "source": [
        "#### How the `input()` Function Works\n",
        "The `input()` function pauses your program and waits for the user to enter some text. Once Python receives the user’s `input, it stores it in a variable to make it convenient for you to work with."
      ]
    },
    {
      "cell_type": "code",
      "execution_count": null,
      "metadata": {
        "id": "K_OoQ67psm-_"
      },
      "outputs": [],
      "source": [
        "# The program waits while the user enters\n",
        "# their response and continues after the user presses enter. The response is\n",
        "# stored in the variable message, then print(message) displays the input back to\n",
        "# the user:\n",
        "    \n",
        "message = input(\"Tell me something, and I will repeat it back to you: \")\n",
        "print(message)"
      ]
    },
    {
      "cell_type": "code",
      "execution_count": null,
      "metadata": {
        "id": "Lm-dex64sm_B"
      },
      "outputs": [],
      "source": [
        "name = input('Please enter your name:')\n",
        "print('Hello, ' + name + '!')"
      ]
    },
    {
      "cell_type": "markdown",
      "metadata": {
        "id": "NMg1AyoVsm_B"
      },
      "source": [
        "**`Sometimes`** you’ll want to write a prompt that’s longer than one line. For example, you might want to tell the user why you’re asking for certain input."
      ]
    },
    {
      "cell_type": "code",
      "execution_count": null,
      "metadata": {
        "id": "8bHocbKasm_C"
      },
      "outputs": [],
      "source": [
        "prompt = \"If you tell us who you are, we can personalize the messages you see.\"\n",
        "prompt += \"\\nWhat is your first name? \"\n",
        "name = input(prompt)\n",
        "\n",
        "print(\"\\nHello, \" + name + \"!\")"
      ]
    },
    {
      "cell_type": "markdown",
      "metadata": {
        "id": "Yk2WELgtsm_D"
      },
      "source": [
        "### Using int() to Accept Numerical Input\n",
        "When you use the `input()` function, Python interprets everything the user enters as a string."
      ]
    },
    {
      "cell_type": "code",
      "execution_count": null,
      "metadata": {
        "id": "WThjNme7sm_D"
      },
      "outputs": [],
      "source": [
        "age = input(\"How old are you? \")"
      ]
    },
    {
      "cell_type": "code",
      "execution_count": null,
      "metadata": {
        "id": "FDDD_Kw0sm_E"
      },
      "outputs": [],
      "source": [
        "age"
      ]
    },
    {
      "cell_type": "code",
      "execution_count": null,
      "metadata": {
        "id": "xBNz0XGSsm_G"
      },
      "outputs": [],
      "source": [
        "type(age)"
      ]
    },
    {
      "cell_type": "code",
      "execution_count": null,
      "metadata": {
        "id": "tR00Kwwqsm_H"
      },
      "outputs": [],
      "source": [
        "# When we try to use the input to do a numerical comparison u, Python\n",
        "# produces an error because it can’t compare a string to an integer\n",
        "age = input(\"How old are you? \")\n",
        "age >= 18"
      ]
    },
    {
      "cell_type": "markdown",
      "metadata": {
        "id": "38wJJzTAsm_H"
      },
      "source": [
        "**We can resolve** this issue by using the `int()` function"
      ]
    },
    {
      "cell_type": "code",
      "execution_count": null,
      "metadata": {
        "id": "dZplf1C-sm_I"
      },
      "outputs": [],
      "source": [
        "age = input(\"How old are you? \")\n",
        "\n",
        "age = int(age)\n",
        "age >= 18"
      ]
    },
    {
      "cell_type": "markdown",
      "metadata": {
        "id": "YvG5DiH5sm_I"
      },
      "source": [
        "#### Another example"
      ]
    },
    {
      "cell_type": "code",
      "execution_count": null,
      "metadata": {
        "id": "06DoSykSsm_J"
      },
      "outputs": [],
      "source": [
        "height = input(\"How tall are you, in inches? \")\n",
        "height = int(height)\n",
        "\n",
        "if height >= 36:\n",
        "    print(\"\\nYou're tall enough to ride!\")\n",
        "else:\n",
        "    print(\"\\nYou'll be able to ride when you're a little older.\")"
      ]
    },
    {
      "cell_type": "markdown",
      "metadata": {
        "id": "KxwQHAyqsm_J"
      },
      "source": [
        "### The Modulo Operator"
      ]
    },
    {
      "cell_type": "markdown",
      "metadata": {
        "id": "ydx3zAyPsm_J"
      },
      "source": [
        "- A useful tool for working with numerical information is the modulo operator (%),\n",
        " which divides one number by another number and returns the remainder.\n",
        "- When one number is divisible by another number, the remainder is 0"
      ]
    },
    {
      "cell_type": "code",
      "execution_count": null,
      "metadata": {
        "id": "k-LByQpzsm_K"
      },
      "outputs": [],
      "source": [
        "number = input(\"Enter a number, and I'll tell you if it's even or odd: \")\n",
        "number = int(number)\n",
        "\n",
        "if number % 2 == 0:\n",
        "    print(\"\\nThe number \" + str(number) + \" is even.\")\n",
        "else:\n",
        "    print(\"\\nThe number \" + str(number) + \" is odd.\")"
      ]
    },
    {
      "cell_type": "markdown",
      "metadata": {
        "id": "KZa7lk9Ssm_K"
      },
      "source": [
        "## The while Loop in Action\n",
        "The `while loop` in Python will execute the code as long as a condition is True."
      ]
    },
    {
      "cell_type": "code",
      "execution_count": null,
      "metadata": {
        "id": "2T195XqBsm_K"
      },
      "outputs": [],
      "source": [
        "# We can use a while loop to count up through a series of numbers.\n",
        "current_number = 1\n",
        "\n",
        "while current_number <= 5:\n",
        "    print(current_number)\n",
        "    current_number += 1"
      ]
    },
    {
      "cell_type": "markdown",
      "metadata": {
        "id": "K_hx0XYssm_L"
      },
      "source": [
        "### Letting the User Choose When to Quit"
      ]
    },
    {
      "cell_type": "code",
      "execution_count": null,
      "metadata": {
        "id": "27ActABtsm_L"
      },
      "outputs": [],
      "source": [
        "# We’ll define a quit value and then\n",
        "# keep the program running as long as the user has not entered the quit value\n",
        "\n",
        "prompt = \"\\nTell me something, and I will repeat it back to you:\"\n",
        "prompt += \"\\nEnter 'quit' to end the program. \"\n",
        "\n",
        "message=''\n",
        "while not  message == 'quit':\n",
        "    message = input(prompt)\n",
        "    print(message)"
      ]
    },
    {
      "cell_type": "markdown",
      "metadata": {
        "id": "QW2DdaA9sm_L"
      },
      "source": [
        "**This program works well**, except that it prints the word 'quit' as if it were an actual message. A simple `if` test fixes this:"
      ]
    },
    {
      "cell_type": "code",
      "execution_count": null,
      "metadata": {
        "id": "GQE1L429sm_M"
      },
      "outputs": [],
      "source": [
        "prompt = \"\\nTell me something, and I will repeat it back to you:\"\n",
        "prompt += \"\\nEnter 'quit' to end the program. \"\n",
        "message = \"\"\n",
        "\n",
        "while message != 'quit':\n",
        "    message = input(prompt)\n",
        "    if message != 'quit':\n",
        "        print(message)"
      ]
    },
    {
      "cell_type": "markdown",
      "metadata": {
        "id": "gVXZp4Uksm_M"
      },
      "source": [
        "### Using a Flag\n",
        "We can define one variable that determines whether or not the entire program is active."
      ]
    },
    {
      "cell_type": "code",
      "execution_count": null,
      "metadata": {
        "id": "jGcflXmZsm_M"
      },
      "outputs": [],
      "source": [
        "prompt = \"\\nTell me something, and I will repeat it back to you:\"\n",
        "prompt += \"\\nEnter 'quit' to end the program. \"\n",
        "\n",
        "active = True\n",
        "while active:\n",
        "    message = input(prompt)\n",
        "  \n",
        "    if message == 'quit':\n",
        "        active = False\n",
        "    else:\n",
        "        print(message)"
      ]
    },
    {
      "cell_type": "markdown",
      "metadata": {
        "id": "_AgFzO2Asm_M"
      },
      "source": [
        "### Using break to Exit a Loop\n",
        "To exit a `while loop` immediately without running any remaining code in the loop, regardless of the results of any conditional test, use the `break statement`. In other words, using `break statement` help us to `breaking out of a loop entirely` without executing the rest of its code."
      ]
    },
    {
      "cell_type": "code",
      "execution_count": null,
      "metadata": {
        "id": "85lLx-0Osm_N"
      },
      "outputs": [],
      "source": [
        "# Consider a program that asks the user about places they’ve visited. We can stop the while loop\n",
        "# in this program by calling break as soon as the user enters the 'quit' value\n",
        "\n",
        "prompt = \"\\nPlease enter the name of a city you have visited:\"\n",
        "prompt += \"\\n(Enter 'quit' when you are finished.) \"\n",
        "\n",
        "while True:\n",
        "    city = input(prompt)\n",
        "    if city == 'quit':\n",
        "        break\n",
        "    else:\n",
        "        print(\"I'd love to go to \" + city.title() + \"!\")\n",
        "        "
      ]
    },
    {
      "cell_type": "markdown",
      "metadata": {
        "id": "9AXEp23Esm_N"
      },
      "source": [
        "### Using continue in a Loop\n",
        "Rather than breaking out of a loop entirely without executing the rest of its code, you can use the `continue` statement to `return to the beginning of the loop` based on the result of a conditional test."
      ]
    },
    {
      "cell_type": "code",
      "execution_count": null,
      "metadata": {
        "id": "B5v8hbctsm_N"
      },
      "outputs": [],
      "source": [
        "# you can use the continue statement to return to the beginning of the\n",
        "# loop based on the result of a conditional test.\n",
        "\n",
        "current_number = 0\n",
        "while current_number < 10:\n",
        "    current_number += 1\n",
        "    if current_number % 2 == 0:\n",
        "        continue\n",
        "    print(current_number)"
      ]
    },
    {
      "cell_type": "markdown",
      "metadata": {
        "id": "9-mD84xSsm_N"
      },
      "source": [
        "### Avoiding Infinite Loops\n",
        "- Every while loop needs a way to stop running so it won’t continue to run forever."
      ]
    },
    {
      "cell_type": "code",
      "execution_count": null,
      "metadata": {
        "id": "i39Lv8Xusm_O"
      },
      "outputs": [],
      "source": [
        "x = 1\n",
        "while x <= 5:\n",
        "    print(x)\n",
        "    x += 1"
      ]
    },
    {
      "cell_type": "markdown",
      "metadata": {
        "id": "CvzODTsysm_O"
      },
      "source": [
        "**But**  if you accidentally omit the line x += 1 (as shown next), `the loop will run forever`"
      ]
    },
    {
      "cell_type": "code",
      "execution_count": null,
      "metadata": {
        "id": "vkSneAepsm_P"
      },
      "outputs": [],
      "source": [
        "# Warning: This loop runs forever!\n",
        "\n",
        "x = 1\n",
        "while x <= 5:\n",
        "    print(x)"
      ]
    },
    {
      "cell_type": "markdown",
      "metadata": {
        "id": "ErdV7btnsm_P"
      },
      "source": [
        "### Using a while Loop with Lists and Dictionaries\n"
      ]
    },
    {
      "cell_type": "markdown",
      "metadata": {
        "id": "vl8IpkeDsm_P"
      },
      "source": [
        "#### Moving Items from One List to Another"
      ]
    },
    {
      "cell_type": "code",
      "execution_count": null,
      "metadata": {
        "id": "lK6SG6xrsm_Q"
      },
      "outputs": [],
      "source": [
        "# Start with users that need to be verified,\n",
        "unconfirmed_users = ['alice', 'brian', 'candace']\n",
        "\n",
        "# Creating an empty list to hold confirmed users.\n",
        "confirmed_users = []\n",
        "\n",
        "# The while loop runs as long as the list unconfirmed_users is not empty.\n",
        "while unconfirmed_users:\n",
        "   \n",
        "    # the pop() function removes unverified users one at a time from the end of\n",
        "    # unconfirmed_users\n",
        "    \n",
        "    current_user = unconfirmed_users.pop()\n",
        "    # Verify each user until there are no more unconfirmed users\n",
        "    print(\"Verifying user: \" + current_user.title())\n",
        "    \n",
        "    # Move each verified user into the list of confirmed users.\n",
        "    confirmed_users.append(current_user)\n",
        "    \n",
        "# Display all confirmed users.\n",
        "print(\"\\nThe following users have been confirmed:\")\n",
        "for confirmed_user in confirmed_users:\n",
        "    print(confirmed_user.title())\n",
        "    \n",
        "# Notice that when the list of unconfirmed users is empty, the loop stops and the list of confirmed users is printed:"
      ]
    },
    {
      "cell_type": "markdown",
      "metadata": {
        "id": "jgFEv7OBsm_Q"
      },
      "source": [
        "#### Removing All Instances of Specific Values from a List"
      ]
    },
    {
      "cell_type": "code",
      "execution_count": null,
      "metadata": {
        "id": "2N24eyrmsm_Q"
      },
      "outputs": [],
      "source": [
        "# We have a list of pets with the value 'cat' repeated several times. To remove all instances of that value, \n",
        "# we can run a while loop until 'cat' is no longer in the list\n",
        "\n",
        "pets = ['dog', 'cat', 'dog', 'goldfish', 'cat', 'rabbit', 'cat']\n",
        "print(pets)\n",
        "while 'cat' in pets:\n",
        "    pets.remove('cat')\n",
        "print(pets)"
      ]
    },
    {
      "cell_type": "markdown",
      "metadata": {
        "id": "yr8yuVV7sm_Q"
      },
      "source": [
        "#### Filling a Dictionary with User Input\n",
        "Let’s make a polling program in which each pass through the loop\n",
        "prompts for the participant’s name and response. We’ll store the data we\n",
        "gather in a dictionary, because we want to connect each response with a\n",
        "particular user:"
      ]
    },
    {
      "cell_type": "code",
      "execution_count": null,
      "metadata": {
        "id": "iLmFiP2esm_R"
      },
      "outputs": [],
      "source": [
        "responses = {}\n",
        "\n",
        "# Set a flag to indicate that polling is active.\n",
        "polling_active = True\n",
        "\n",
        "while polling_active:\n",
        "    # Prompt for the person's name and response.\n",
        "    name = input(\"\\nWhat is your name? \")\n",
        "    response = input(\"Which mountain would you like to climb someday? \")\n",
        "   \n",
        "    # Store the response in the dictionary:\n",
        "    responses[name] = response\n",
        "    \n",
        "    # Find out if anyone else is going to take the poll.\n",
        "    repeat = input(\"Would you like to let another person respond? (yes/ no) \")\n",
        "    \n",
        "    if repeat == 'no':\n",
        "        polling_active = False\n",
        "    \n",
        "    # Polling is complete. Show the results.\n",
        "print(\"\\n--- Poll Results ---\")\n",
        "for name, response in responses.items():\n",
        "    print(name + \" would like to climb \" + response + \".\")"
      ]
    }
  ],
  "metadata": {
    "kernelspec": {
      "display_name": "Python 3",
      "language": "python",
      "name": "python3"
    },
    "language_info": {
      "codemirror_mode": {
        "name": "ipython",
        "version": 3
      },
      "file_extension": ".py",
      "mimetype": "text/x-python",
      "name": "python",
      "nbconvert_exporter": "python",
      "pygments_lexer": "ipython3",
      "version": "3.7.4"
    },
    "colab": {
      "name": "Ch_07_User_Input_and_while_Loops.ipynb",
      "provenance": [],
      "include_colab_link": true
    }
  },
  "nbformat": 4,
  "nbformat_minor": 0
}