{
  "cells": [
    {
      "cell_type": "markdown",
      "metadata": {
        "id": "view-in-github",
        "colab_type": "text"
      },
      "source": [
        "<a href=\"https://colab.research.google.com/github/ksariash/Python_Crash_Course/blob/main/Ch_10_Files_Exceptions.ipynb\" target=\"_parent\"><img src=\"https://colab.research.google.com/assets/colab-badge.svg\" alt=\"Open In Colab\"/></a>"
      ]
    },
    {
      "cell_type": "markdown",
      "metadata": {
        "id": "EEpM389tsoD5"
      },
      "source": [
        "# Chapter 10 - Files and Exceptions\n",
        "\n",
        "This chapter will focus on getting information from a file, creating a new file whie running a program, storing information into a file, and managing errors in the code so that it does not crash the program."
      ]
    },
    {
      "cell_type": "markdown",
      "metadata": {
        "id": "bh0wKHwqsoD9"
      },
      "source": [
        "## Reading from a File\n",
        "\n",
        "A lot of data is stored in text files, and the first step to working with the text information from the file is to read it into [the computer's] memory. You can read in the entire contents of a file, or read in information one line at a time."
      ]
    },
    {
      "cell_type": "markdown",
      "metadata": {
        "id": "8TS1O5N4soD-"
      },
      "source": [
        "### Reading an Entire File\n",
        "\n",
        "From the [author's website](https://ehmatthes.github.io/pcc_2e/) download the zip file of all the course material. In the folder labeled \"chapter 10\", there is a file called `pi_digits.txt` that will be used for the following example. It is easier if a copy of the file is in the same directory (folder) as the program file you are running.\n",
        "\n",
        "To open a file in Python, the compound statement `with open(filename) as file_variable_name:` does several steps. First, the `open(filename)` function allows a connection into to the file to access the contents. By default, the `open` function is in ***read mode***. The `with` statement, when used along with `open()` makes sure that the file is closed when the code tasks are done executing. Lastly, before starting the code block, `as file_variable_name:` assigns an alias to the open file while working within it until it is closed.\n",
        "\n",
        "The `.read()` function will get an in-memory copy of the contents of the file (it does not remove information out of the file) and then store it as a single string value."
      ]
    },
    {
      "cell_type": "code",
      "execution_count": null,
      "metadata": {
        "id": "AERlXvozsoD_"
      },
      "outputs": [],
      "source": [
        "# file contains the number pi to 30 decimal places\n",
        "# 3 lines in the file with 10 decimal places per line\n",
        "\n",
        "# open the file \"pi_digits.txt\" with the alias \"file_object\"\n",
        "with open(\"pi_digits.txt\") as file_object:\n",
        "    \n",
        "    # read the information in the file as a string\n",
        "    # store it in the variable contents\n",
        "    contents = file_object.read()\n",
        "    print(contents)"
      ]
    },
    {
      "cell_type": "code",
      "execution_count": null,
      "metadata": {
        "id": "KIh_hz6IsoEA"
      },
      "outputs": [],
      "source": [
        "# verify that \"contents\" is a string\n",
        "type(contents)"
      ]
    },
    {
      "cell_type": "markdown",
      "metadata": {
        "id": "fgh5J4xjsoEB"
      },
      "source": [
        "In the output shown, lines 2 and 3 have extra spaces to format the number. What can't be seen in the `print` output is a newline at the end of each line in the file."
      ]
    },
    {
      "cell_type": "code",
      "execution_count": null,
      "metadata": {
        "id": "bKw9pjYhsoEC"
      },
      "outputs": [],
      "source": [
        "# newline (\\n) at end of each line\n",
        "# there is a 4th line in the file that is blank\n",
        "contents"
      ]
    },
    {
      "cell_type": "code",
      "execution_count": null,
      "metadata": {
        "id": "N6SCKI23soEC"
      },
      "outputs": [],
      "source": [
        "# remove the newline from last line\n",
        "\n",
        "with open(\"pi_digits.txt\") as file_object:\n",
        "    \n",
        "    contents = file_object.read()\n",
        "    # newline is located on the right side the last decimal sequence\n",
        "    print(contents.rstrip())"
      ]
    },
    {
      "cell_type": "code",
      "execution_count": null,
      "metadata": {
        "id": "wPKRa1vasoED"
      },
      "outputs": [],
      "source": [
        "# last newline is removed\n",
        "contents.rstrip()"
      ]
    },
    {
      "cell_type": "markdown",
      "metadata": {
        "id": "j_5ccQIdsoEE"
      },
      "source": [
        "### File Paths\n",
        "\n",
        "In the example above, the `pi_digits.txt` file was in the same directory (folder) as the file that is running the program. So in the `with open(filename)` statement, only the name of the file was passed into the function as a string. However, sometimes the file that will be accessed is located in a different directory, so Python will need the ***file path***, which is the file's location. \n",
        "\n",
        "A ***relative filepath*** is the location of a file that is in a sub-level folder from the program file's location. For example, there is a file called `filename.txt` located in a folder called `text_files`, and that folder is located in the same directory as the program that needs access to `filename.txt` (let's call the program file `program.py`). So the structure looks like this:\n",
        "\n",
        "- Parent_Folder\n",
        "    - program.py\n",
        "    - text_files (folder)\n",
        "        - filename.txt\n",
        "        \n",
        "To access the file in another folder, then the filepath would be `text_file/filename.txt`. This filepath could also be used in the `with open()` statement to tell it where to look for the file and access its contents. (Example: `with open(text_file/filename.txt)`)\n",
        "\n",
        "An ***absolute file path*** is the location of a file located several levels above where the program is running, and sometimes on another drive. There are differences in the structure of an absolute file path on Linux-based vs Windows computers but the concept is still the same.\n",
        "\n",
        "Using the same `filename.txt` example, let's say that the `text_files` folder is now located two levels above the `Parent_Folder` with the `program.py` file. This is the structure of the relationship:\n",
        "\n",
        "- Some_Folder\n",
        "    - text_files (folder)\n",
        "        - filename.txt\n",
        "    - Another_Folder\n",
        "        - Parent_Folder\n",
        "            - program.py\n",
        "            \n",
        "In Linux-based systems, the file path structure would start from the root location of the local computer's drive, usually called `home`. To find the file, the file path would be `/home/any_other_folders/Some_Folder/text_files/filename.txt`. On a Windows computer, the local drive is usually the C: drive and so the file path would look like `r\"C:\\Users\\your_username\\any_other_folders\\Some_Folder\\text_files\\filename.txt\"`. The \"r\" used before the string quotations is to read the string as ***raw***, meaning to not interpret any special sequence of characters (such as `\\n` or `\\t`). \n",
        "\n",
        "**NOTE**: Linux-based systems use a forward slash (`/`) and Windows computers use a back slash (`\\`)."
      ]
    },
    {
      "cell_type": "markdown",
      "metadata": {
        "id": "us6p1tUfsoEF"
      },
      "source": [
        "### Reading Line by Line\n",
        "\n",
        "When reading the contents of a file, it can be loaded as a whole element, as in the previous example, or the file can read in each line as their own individual elements. One method of reading information line by line is to iterate using a `for` loop."
      ]
    },
    {
      "cell_type": "code",
      "execution_count": null,
      "metadata": {
        "id": "Ds-ybJrOsoEG"
      },
      "outputs": [],
      "source": [
        "filename = \"pi_digits.txt\"\n",
        "\n",
        "with open(filename) as file_object:\n",
        "    \n",
        "    # read each line in the \"pi_digits.txt\" file, then display\n",
        "    # there are 4 lines in the file (including blank newline)\n",
        "    for line in file_object:\n",
        "        print(line)"
      ]
    },
    {
      "cell_type": "code",
      "execution_count": null,
      "metadata": {
        "id": "3nu3GDTxsoEG"
      },
      "outputs": [],
      "source": [
        "with open(filename) as file_object:\n",
        "    \n",
        "    for line in file_object:\n",
        "        # strip the newline character from each line\n",
        "        print(line.rstrip())"
      ]
    },
    {
      "cell_type": "markdown",
      "metadata": {
        "id": "tXEAHlWysoEH"
      },
      "source": [
        "### Making a List of Lines from a File\n",
        "\n",
        "Even though each line can be treated as its own element using a `for` loop, it is only useable within the `with open()` statement. To use the lines outside of the code block, they can be assigned to a variable as a list, then iterated through using a `for` loop."
      ]
    },
    {
      "cell_type": "code",
      "execution_count": null,
      "metadata": {
        "id": "Fhk0TrCvsoEH"
      },
      "outputs": [],
      "source": [
        "# using same \"pi_digits.txt\" file from previous example\n",
        "\n",
        "with open(filename) as file_object:\n",
        "    \n",
        "    #assign list created by readlines() function to variable\n",
        "    lines = file_object.readlines()\n",
        "    \n",
        "# iterate through list variable\n",
        "for line in lines:\n",
        "    \n",
        "    # display line with right whitespace removed\n",
        "    print(line.rstrip())"
      ]
    },
    {
      "cell_type": "markdown",
      "metadata": {
        "id": "3KgMfVj5soEH"
      },
      "source": [
        "### Working with a File's Contents\n",
        "\n",
        "After a file has been read into memory as a string , the data can then be used in many ways."
      ]
    },
    {
      "cell_type": "code",
      "execution_count": null,
      "metadata": {
        "id": "s-83iPrusoEI"
      },
      "outputs": [],
      "source": [
        "# build a string of the numbers concatenated together with no newlines\n",
        "\n",
        "with open(filename) as file_object:\n",
        "    lines = file_object.readlines()\n",
        "    \n",
        "# empty string to hold the concatenated numbers\n",
        "pi_string = ''\n",
        "\n",
        "for line in lines:\n",
        "    \n",
        "    # remove right whitespace, then concatenate line with pi_string and reassign pi_string with the new value\n",
        "    pi_string += line.rstrip()\n",
        "\n",
        "print(pi_string)\n",
        "print(len(pi_string))"
      ]
    },
    {
      "cell_type": "code",
      "execution_count": null,
      "metadata": {
        "id": "d3WnMGRmsoEI"
      },
      "outputs": [],
      "source": [
        "# build a string of the numbers concatenated together with no spaces\n",
        "# use \"lines\" variable from previous example\n",
        "\n",
        "pi_string = ''\n",
        "\n",
        "for line in lines:\n",
        "    \n",
        "    # strip all whitespace, then concatenate line with pi_string and reassign pi_string with the new value\n",
        "    pi_string += line.strip()\n",
        "    \n",
        "print(pi_string)\n",
        "print(len(pi_string))"
      ]
    },
    {
      "cell_type": "markdown",
      "metadata": {
        "id": "o86d1kYtsoEJ"
      },
      "source": [
        "### Large Files: One Million Digits\n",
        "\n",
        "In the previous examples, the file had only three lines of data but the same code will also work on larger files."
      ]
    },
    {
      "cell_type": "code",
      "execution_count": null,
      "metadata": {
        "id": "ttk8k1PysoEJ"
      },
      "outputs": [],
      "source": [
        "# use file \"pi_million_digits.txt\" on code block from previous example\n",
        "# will limit output to first 50 decimal places (to save screen space)\n",
        "\n",
        "filename = \"pi_million_digits.txt\"\n",
        "\n",
        "with open(filename) as file_object:\n",
        "    lines = file_object.readlines()\n",
        "\n",
        "pi_string = ''\n",
        "\n",
        "for line in lines:\n",
        "    pi_string += line.strip()\n",
        "\n",
        "# display first 52 characters of pi_string\n",
        "print(pi_string[:52] + \"...\")\n",
        "print(len(pi_string))"
      ]
    },
    {
      "cell_type": "markdown",
      "metadata": {
        "id": "ad3dVDRisoEK"
      },
      "source": [
        "### Is Your Birthday Contained in Pi?\n",
        "\n",
        "Let's use the program created in the previous example to check if a person's birthday within the first million digits of pi."
      ]
    },
    {
      "cell_type": "code",
      "execution_count": null,
      "metadata": {
        "id": "3StYx_wnsoEK"
      },
      "outputs": [],
      "source": [
        "# use the value stored in pi_string variable from previous example\n",
        "\n",
        "# prompt user for their birthday\n",
        "birthday = input(\"Enter your birthday, in the form mmddyy: \")\n",
        "\n",
        "# check if string value of birthday is in pi_string\n",
        "if birthday in pi_string:\n",
        "    print(\"Your birthday appears in the first million digits of pi!\")\n",
        "else:\n",
        "    print(\"Your birthday does not appear in the first million digits of pi.\")"
      ]
    },
    {
      "cell_type": "markdown",
      "metadata": {
        "id": "693r5FAUsoEK"
      },
      "source": [
        "## Writing to a File\n",
        "\n",
        "One of the easiest ways to save data is to **write** (store) it to a file. Once data is written to a file, it can be accessed even after the program script that created it has been closed. The file can also be shared with other people and if the data is needed again in the program script, then the file can be read into the program. Text files created by a program behave exactly as any other text file does - you can type new text into it, copy text from it, and paste text into it."
      ]
    },
    {
      "cell_type": "markdown",
      "metadata": {
        "id": "_C3OtesRsoEL"
      },
      "source": [
        "### Write to an Empty File\n",
        "\n",
        "To write information to a file, the `with open(file, 'w')` statement is used, which includes the argument `'w'` to open the file in write mode. If no argument is passed through the `open()` function, then the default mode is *read*.\n",
        "\n",
        "**Caution!** `open()` will automatically create a new file if the filename does not exist. However, if the filename does exist then Python will erase the previous file and its contents to create the new file.\n",
        "\n",
        "***Note:*** Python can only write strings to a text file. If you want to store numererical data in a text file, the data should first be converted to a string format using the `str()` function."
      ]
    },
    {
      "cell_type": "code",
      "execution_count": null,
      "metadata": {
        "id": "AE3sajobsoEL"
      },
      "outputs": [],
      "source": [
        "# save a sentence into a text file\n",
        "\n",
        "# this will be the name of the new file\n",
        "filename = \"programming.txt\"\n",
        "\n",
        "# create the file and open it in 'write' mode\n",
        "with open(filename, 'w') as file_object:\n",
        "    \n",
        "    # write the string message into the file\n",
        "    file_object.write(\"I love programming.\")"
      ]
    },
    {
      "cell_type": "markdown",
      "metadata": {
        "id": "-aW0wvkssoEL"
      },
      "source": [
        "### Writing Multiple Lines\n",
        "\n",
        "The `.write()` function does not add any newlines to the text that is typed. If there is more than one line for the text but newlines were not explicitly added, then the contents of the file may not look as expected."
      ]
    },
    {
      "cell_type": "code",
      "execution_count": null,
      "metadata": {
        "id": "BiM7gueZsoEL"
      },
      "outputs": [],
      "source": [
        "# use same 'filename' variable from previous example\n",
        "\n",
        "with open(filename, 'w') as file_object:\n",
        "    file_object.write(\"I love programming.\")\n",
        "    file_object.write(\"I love creating new games.\")"
      ]
    },
    {
      "cell_type": "markdown",
      "metadata": {
        "id": "eUzTiltusoEM"
      },
      "source": [
        "***What happened?***\n",
        "\n",
        "The contents of the file display `I love programming.I love creating new games.` on the same line, despite using two separate `.write()` functions to add text to the file. However, each string value written to the file did not contain a newline character, so they were saved in the file subsequently, even without spacing between the sentences. "
      ]
    },
    {
      "cell_type": "code",
      "execution_count": null,
      "metadata": {
        "id": "0OgnGg1ksoEM"
      },
      "outputs": [],
      "source": [
        "# add newline characters to strings when writing to file\n",
        "\n",
        "with open(filename, 'w') as file_object:\n",
        "    file_object.write(\"I love programming.\\n\")\n",
        "    file_object.write(\"I love creating new games.\\n\")"
      ]
    },
    {
      "cell_type": "markdown",
      "metadata": {
        "id": "kOx6kM88soEM"
      },
      "source": [
        "The contents of the file now look like <br>\n",
        "`I love programming.\n",
        "I love creating new games.`"
      ]
    },
    {
      "cell_type": "markdown",
      "metadata": {
        "id": "MjoMF-NXsoEM"
      },
      "source": [
        "### Appending to a File\n",
        "\n",
        "Because a file's contents are completely erased each time it is opened in write mode, using a file in **append** mode (`with open(file_variable, 'a')`) allows a user to add new content to the file without deleting any previously existing text."
      ]
    },
    {
      "cell_type": "code",
      "execution_count": null,
      "metadata": {
        "id": "UKtvkD3PsoEN"
      },
      "outputs": [],
      "source": [
        "# use the current \"programming.txt\" file that has 2 lines of text in it\n",
        "\n",
        "with open(filename, 'a') as file_object:\n",
        "    \n",
        "    # the following lines will be added to the file, for a total of 4 lines in the file\n",
        "    file_object.write(\"I also love finding meaning in large datasets.\\n\")\n",
        "    file_object.write(\"I love creating apps that can run in a browser.\\n\")"
      ]
    },
    {
      "cell_type": "markdown",
      "metadata": {
        "id": "ua8_nCOYsoEN"
      },
      "source": [
        "The results of the file look like this: <br>\n",
        "`I love programming.\n",
        "I love creating new games.\n",
        "I also love finding meaning in large datasets.\n",
        "I love creating apps that can run in a browser.`"
      ]
    },
    {
      "cell_type": "markdown",
      "metadata": {
        "id": "rTdycCDRsoEN"
      },
      "source": [
        "## Exceptions\n",
        "\n",
        "Whenever an error occurs in a Python script, the program usually stops and shows a ***traceback*** (report of the error) due to the ***exception object*** (the error itself) that happened. Instead of the program always crashing (stopping) whenever there is an error, a `try-except` block can be incorporated into the script to handle errors more gracefully. The `try` statement will test to see if a task in the proceeding code block produces an error. If it does not raise an error, then the program can successfully move on to other remaining tasks. However, if the `try` code block generates an error, then `except` will execute a code block that handles the error and then will allow the program to continue running."
      ]
    },
    {
      "cell_type": "markdown",
      "metadata": {
        "id": "bEJJW5aDsoEN"
      },
      "source": [
        "### Handling the ZeroDivisionError Exception\n",
        "\n",
        "In math, it is impossible to divide any number by zero. Python has a `ZeroDivisionError` that is produced when a user attempts to divide by zero. "
      ]
    },
    {
      "cell_type": "code",
      "execution_count": null,
      "metadata": {
        "id": "rw5wStOLsoEN"
      },
      "outputs": [],
      "source": [
        "# try to divide by zero\n",
        "\n",
        "print(5/0)"
      ]
    },
    {
      "cell_type": "markdown",
      "metadata": {
        "id": "U_FPL-f6soEO"
      },
      "source": [
        "### Using `try-except` Blocks\n",
        "\n",
        "If the previous example's code block were in a children's math app, then it would not be good aesthetic design to show the traceback. In the case of malicious attackers, then they would know the vulnerabilities that exist in the program.\n",
        "\n",
        "Let's add a `try-except` block to tell the user that they cannot divide by zero."
      ]
    },
    {
      "cell_type": "code",
      "execution_count": null,
      "metadata": {
        "id": "XMye_l4wsoEO"
      },
      "outputs": [],
      "source": [
        "# try statement will see if the code block raises an error\n",
        "try:\n",
        "    print(5/0)\n",
        "    \n",
        "# except statement will show message to user instead of traceback\n",
        "except ZeroDivisionError:\n",
        "    print(\"You can't divide by zero!\")"
      ]
    },
    {
      "cell_type": "markdown",
      "metadata": {
        "id": "tIeldJm2soEO"
      },
      "source": [
        "### Using Exceptions to Prevent Crashes\n",
        "\n",
        "Handling errors is important when the program has other tasks to execute beyond the code block that caused the crash."
      ]
    },
    {
      "cell_type": "code",
      "execution_count": null,
      "metadata": {
        "id": "v3TII6YdsoEO"
      },
      "outputs": [],
      "source": [
        "# simple calculator function that only does division\n",
        "# request user to input two numbers, and they will be divided\n",
        "\n",
        "print(\"Give me two numbers, and I'll divide them.\")\n",
        "print(\"Enter 'q' to quit.\")\n",
        "\n",
        "#continue to prompt the user for info unless they quit\n",
        "while True:\n",
        "    \n",
        "    first_number = input(\"\\nFirst number: \")\n",
        "    if first_number == 'q':\n",
        "        break\n",
        "    \n",
        "    second_number = input(\"Second number: \")\n",
        "    if second_number == 'q':\n",
        "        break\n",
        "    \n",
        "    # divide the first number by the second number\n",
        "    answer = int(first_number) / int(second_number)\n",
        "    print(answer)"
      ]
    },
    {
      "cell_type": "markdown",
      "metadata": {
        "id": "2RZOBw3HsoEO"
      },
      "source": [
        "### The `else` Block\n",
        "\n",
        "In the example, the program never executes `print(answer)` because the line before it produced an error from attempting to divide by zero. When there are tasks that should be run only if the `try` statement does not generate an error, then the `else` statement is added after `except`."
      ]
    },
    {
      "cell_type": "code",
      "execution_count": null,
      "metadata": {
        "id": "Q0S5REXxsoEP"
      },
      "outputs": [],
      "source": [
        "print(\"Give me two numbers, and I'll divide them.\")\n",
        "print(\"Enter 'q' to quit.\")\n",
        "\n",
        "while True:\n",
        "    \n",
        "    first_number = input(\"\\nFirst number: \")\n",
        "    if first_number == 'q':\n",
        "        break\n",
        "    \n",
        "    second_number = input(\"Second number: \")\n",
        "    if second_number == 'q':\n",
        "        break\n",
        "    \n",
        "    try:\n",
        "        answer = int(first_number) / int(second_number)\n",
        "    except ZeroDivisionError:\n",
        "        print(\"You can't divide by zero!\")\n",
        "    \n",
        "    # will execute if the \"try\" is okay\n",
        "    else:\n",
        "        print(answer)"
      ]
    },
    {
      "cell_type": "markdown",
      "metadata": {
        "id": "3hBc9-KUsoEP"
      },
      "source": [
        "### Handling the `FileNotFoundError` Exception\n",
        "\n",
        "A common difficulty of using files in a program is when the file is \"missing\". The file may be in a different location, the file name could be misspelled, or the file does not exist at all. Whenever Python cannot find a file that it is trying to access, it raises a `FileNotFoundError` exception. \n",
        "\n",
        "***Note:*** On some systems, the `FileNotFoundError` is called an `IOError`.\n",
        "\n",
        "When accessing a file, sometimes the default encoding of the computer system does not match the encoding of the file.  For that case, in the `with open()` statement, an argument called `encoding` can be used with a string value of the encoding type of the file."
      ]
    },
    {
      "cell_type": "code",
      "execution_count": null,
      "metadata": {
        "id": "nl8Ou8TIsoEP"
      },
      "outputs": [],
      "source": [
        "# this is the file that will be used in the program\n",
        "filename = \"alice.txt\"\n",
        "\n",
        "# text files can have different encoding types such as \"utf-8\"\n",
        "# encoding is used when the system's default encoding does not match the file's encoding\n",
        "with open(filename, encoding='utf-8') as f_obj:\n",
        "    contents = f_obj.read()"
      ]
    },
    {
      "cell_type": "code",
      "execution_count": null,
      "metadata": {
        "id": "1tsUKqPSsoEP"
      },
      "outputs": [],
      "source": [
        "filename = 'alice.txt'\n",
        "\n",
        "# \"try\" statement will check if opening the file causes an error\n",
        "try:\n",
        "    with open(filename, encoding='utf-8') as f_obj:\n",
        "        contents = f_obj.read()\n",
        "        \n",
        "# if there is a FileNotFoundError, then display a message to the user\n",
        "except FileNotFoundError:\n",
        "    msg = \"Sorry, the file \" + filename + \" does not exist.\"\n",
        "    print(msg)"
      ]
    },
    {
      "cell_type": "markdown",
      "metadata": {
        "id": "qxT2LzGGsoEP"
      },
      "source": [
        "### Analyzing Text\n",
        "\n",
        "Although much more difficult to do, text data can be analyzed like numerical data. One of the simplest methods of analyzing text is to count the number of words. The `.split()` function in Python separates a string value into individual items, based on a delimiter (by default, the delimiter is a whitespace) and then stores them into a list. Other string values can be used as a delimiter - punctuation, a single alphanumeric character, or even a set of alphanumeric characters. \n",
        "\n",
        "***Setup***: From the files that are used for this book, add a copy of the `alice.txt`, `moby_dick.txt`, and `little_women.txt` files to the same directory as this script.\n",
        "\n",
        "---\n",
        "The texts in the following examples are from the Project Gutenburg website, which contains a collection of public domain literary works. More texts can be found at https://www.gutenberg.org/."
      ]
    },
    {
      "cell_type": "code",
      "execution_count": null,
      "metadata": {
        "id": "wb7ow-eQsoEQ"
      },
      "outputs": [],
      "source": [
        "title = \"Alice in Wonderland\"\n",
        "\n",
        "# will separate string into items in list (whitespace is delimiter)\n",
        "title.split()"
      ]
    },
    {
      "cell_type": "code",
      "execution_count": null,
      "metadata": {
        "id": "LMFCAIIqsoEQ"
      },
      "outputs": [],
      "source": [
        "# this file should now be in the directory\n",
        "filename = \"alice.txt\"\n",
        "\n",
        "# same code block that will try to read the file\n",
        "try:\n",
        "    with open(filename, encoding='utf-8') as f_obj:\n",
        "        contents = f_obj.read()\n",
        "except FileNotFoundError:\n",
        "    msg = \"Sorry, the file \" + filename + \" does not exist.\"\n",
        "    print(msg)\n",
        "else:\n",
        "    # separate the string value from the file using whitespace as delimiter\n",
        "    # \"words\" is a list\n",
        "    words = contents.split()\n",
        "    \n",
        "    # get the length of the \"words\" list\n",
        "    num_words = len(words)\n",
        "    \n",
        "    # it is an approximation because not all items separated by a whitespace are words\n",
        "    # could be punctuation or extra publisher information\n",
        "    print(\"The file \" + filename + \" has about \" + str(num_words) + \" words.\")"
      ]
    },
    {
      "cell_type": "markdown",
      "metadata": {
        "id": "tVlBoPFBsoEQ"
      },
      "source": [
        "### Working with Multiple Files\n",
        "\n",
        "In the previous example, only one book was analyzed for word count. However, if there were multiple works that needed to be analyzed, then a function should be created for reuse."
      ]
    },
    {
      "cell_type": "code",
      "execution_count": null,
      "metadata": {
        "id": "Xjmk70BssoEQ"
      },
      "outputs": [],
      "source": [
        "# create the function\n",
        "def count_words(filename):\n",
        "    \"\"\"Count the approximate number of words in a file.\"\"\"\n",
        "    \n",
        "    try:\n",
        "        with open(filename, encoding='utf-8') as f_obj:\n",
        "            contents = f_obj.read()\n",
        "    except FileNotFoundError:\n",
        "        msg = \"Sorry, the file \" + filename + \" does not exist.\"\n",
        "        print(msg)\n",
        "    else:\n",
        "        words = contents.split()\n",
        "        num_words = len(words)\n",
        "        \n",
        "        print(\"The file \" + filename + \" has about \" + str(num_words) + \" words.\")"
      ]
    },
    {
      "cell_type": "code",
      "execution_count": null,
      "metadata": {
        "id": "5rJkZBCfsoEQ"
      },
      "outputs": [],
      "source": [
        "filename = \"alice.txt\"\n",
        "\n",
        "# use the function - output is either word count or FileNotFoundError message\n",
        "count_words(filename)"
      ]
    },
    {
      "cell_type": "code",
      "execution_count": null,
      "metadata": {
        "id": "-PWFhEKUsoER"
      },
      "outputs": [],
      "source": [
        "# try the count_word function on multiple files\n",
        "filenames = ['alice.txt', 'siddhartha.txt', 'moby_dick.txt', 'little_women.txt']\n",
        "\n",
        "# iterate through each file name and use count_words on it\n",
        "for filename in filenames:\n",
        "    count_words(filename)"
      ]
    },
    {
      "cell_type": "markdown",
      "metadata": {
        "id": "VCoLwuWosoER"
      },
      "source": [
        "The `FileNotFoundError` caused by the `siddhartha.txt` file displayed the user-friendly message set in the program."
      ]
    },
    {
      "cell_type": "markdown",
      "metadata": {
        "id": "5p7FGwzisoER"
      },
      "source": [
        "### Failing Silently\n",
        "\n",
        "In the previous examples, the user was shown a message whenever a file was not available. But all exceptions do not need to be reported. The program can ***fail silently***, which will do nothing when an error occurs but still continue running the rest of the tasks in the program. The `pass` statement can be used in a code block to skip over an item in the program when it meets a particular condition."
      ]
    },
    {
      "cell_type": "code",
      "execution_count": null,
      "metadata": {
        "id": "iHKNKlrcsoER"
      },
      "outputs": [],
      "source": [
        "def count_words(filename):\n",
        "    \"\"\"Count the approximate number of words in a file.\"\"\"\n",
        "    \n",
        "    try:\n",
        "        with open(filename, encoding='utf-8') as f_obj:\n",
        "            contents = f_obj.read()\n",
        "    except FileNotFoundError:\n",
        "        # do nothing when the file does not exist\n",
        "        pass\n",
        "    else:\n",
        "        words = contents.split()\n",
        "        num_words = len(words)\n",
        "        \n",
        "        print(\"The file \" + filename + \" has about \" + str(num_words) + \" words.\")"
      ]
    },
    {
      "cell_type": "code",
      "execution_count": null,
      "metadata": {
        "id": "c8z1jfr7soER"
      },
      "outputs": [],
      "source": [
        "filenames = ['alice.txt', 'siddhartha.txt', 'moby_dick.txt', 'little_women.txt']\n",
        "\n",
        "for filename in filenames:\n",
        "    count_words(filename)"
      ]
    },
    {
      "cell_type": "markdown",
      "metadata": {
        "id": "lj3tYaP6soER"
      },
      "source": [
        "No message was shown for the `siddhartha.txt` file because although it caused a `FileNotFoundError` exception, the `pass` statement skipped executing any tasks for that file and continued with the remainder of the program."
      ]
    },
    {
      "cell_type": "markdown",
      "metadata": {
        "id": "N51YT35dsoES"
      },
      "source": [
        "### Deciding Which Errors to Report\n",
        "\n",
        "How do you know when to report an error to your users and when to fail silently? Giving users information that they don't need can decrease the usability of a program. The error-handling structures in Python allow developers to control how much information should be shared to users when things go wrong. \n",
        "\n",
        "Well-written, properly tested code is not very prone to internal errors, such as syntax or logical errors. But if the program depends on something external, like user input, the existance of a file, or the availability of a network connection, there is a possibility of an exception being raised. With more experience it will become easier to decide where to include exception handling blocks in a program."
      ]
    },
    {
      "cell_type": "markdown",
      "metadata": {
        "id": "gXXKEqZHsoES"
      },
      "source": [
        "## Storing Data\n",
        "\n",
        "As seen in the previous lessons, users are sometimes prompted to input information in a program. Until now, that information has only been used while the program is still running. However user information may need to be stored for later use when the program is run again at a later time. A simple way to do this is by using the **JSON (JavaScript Object Notation)** data format. JSON is a data structure that integrates well into many programming languages, so it is easy to send and share data.\n",
        "\n",
        "In Python, the `json` library is most commonly used to read and write JSON data."
      ]
    },
    {
      "cell_type": "markdown",
      "metadata": {
        "id": "Sz1v-k33soES"
      },
      "source": [
        "### Using `json.dump()` and `json.load()`\n",
        "\n",
        "The `json.dump(json_object, file_object)` function is used to write JSON information to a file. `json.load(file_object)` reads in the information as a JSON object that was stored in a JSON file."
      ]
    },
    {
      "cell_type": "code",
      "execution_count": null,
      "metadata": {
        "id": "cPPxsAoMsoES"
      },
      "outputs": [],
      "source": [
        "# Example: Store numbers into a file as a JSON object\n",
        "\n",
        "# import the JSON library\n",
        "import json\n",
        "\n",
        "# list of numbers that will be stored\n",
        "numbers = [2,3,5,7,11,13]\n",
        "\n",
        "filename = \"numbers.json\"\n",
        "\n",
        "# create a new file and open it in \"write\" mode\n",
        "with open(filename, 'w') as f_obj:\n",
        "    \n",
        "    #  write the \"numbers\" list to the file as JSON\n",
        "    json.dump(numbers, f_obj)"
      ]
    },
    {
      "cell_type": "code",
      "execution_count": null,
      "metadata": {
        "id": "nFf4dOP_soES"
      },
      "outputs": [],
      "source": [
        "# Example: Load the information stored in file from previous example\n",
        "\n",
        "with open(filename) as f_obj:\n",
        "    # read in the contents from file as JSON\n",
        "    numbers = json.load(f_obj)\n",
        "    \n",
        "print(numbers)"
      ]
    },
    {
      "cell_type": "markdown",
      "metadata": {
        "id": "DEvcSvuWsoES"
      },
      "source": [
        "### Saving and Reading User-Generated Data\n",
        "\n",
        "If the information requested from a user during a program is not stored, then it is lost once the program finishes. Storing data makes it efficient to use so that a user is not prompted to input the same information again."
      ]
    },
    {
      "cell_type": "code",
      "execution_count": null,
      "metadata": {
        "id": "bVn0GuLpsoET"
      },
      "outputs": [],
      "source": [
        "# Example: Prompt user for name on first use, then remember it when they use the program again\n",
        "\n",
        "username = input(\"What is your name?\")\n",
        "\n",
        "filename = \"username.json\"\n",
        "with open(filename, 'w') as f_obj:\n",
        "    \n",
        "    # store username in file\n",
        "    json.dump(username, f_obj)\n",
        "    \n",
        "    # display message to user\n",
        "    print(\"We'll remember you when you come back, \" + username + \"!\")"
      ]
    },
    {
      "cell_type": "code",
      "execution_count": null,
      "metadata": {
        "id": "evVziQRrsoET"
      },
      "outputs": [],
      "source": [
        "# Example: Greet user that already has stored username\n",
        "\n",
        "with open(filename) as f_obj:\n",
        "    username = json.load(f_obj)\n",
        "    print(\"Welcome back, \" + username + \"!\")"
      ]
    },
    {
      "cell_type": "markdown",
      "metadata": {
        "id": "Z8fMzWP4soET"
      },
      "source": [
        "***NOTE:*** For the next example, delete the `username.json` file created from the previous example."
      ]
    },
    {
      "cell_type": "code",
      "execution_count": null,
      "metadata": {
        "id": "0ERf2zYNsoET"
      },
      "outputs": [],
      "source": [
        "# Example: Combine code for storage and recall of username\n",
        "#          Prompt for new username if there is no username stored\n",
        "\n",
        "# see if the file can be opened and read\n",
        "try:\n",
        "    with open(filename) as f_obj:\n",
        "        username = json.load(f_obj)\n",
        "\n",
        "# if there is no file, then create and prompt for name\n",
        "except FileNotFoundError:\n",
        "    username = input(\"What is your name? \")\n",
        "    with open(filename, 'w') as f_obj:\n",
        "        json.dump(username, f_obj)\n",
        "        print(\"We'll remember you when you come back, \" + username + \"!\")\n",
        "\n",
        "# if the \"try\" was successful, greet the user\n",
        "else:\n",
        "    print(\"Welcome back, \" + username + \"!\")"
      ]
    },
    {
      "cell_type": "markdown",
      "metadata": {
        "id": "0kU3PkWusoET"
      },
      "source": [
        "**NOTE:** Run the previous code again to display the greeting meesage to the user."
      ]
    },
    {
      "cell_type": "markdown",
      "metadata": {
        "id": "ezzzw7BNsoET"
      },
      "source": [
        "### Refactoring\n",
        "\n",
        "Although programs are created with an overall task or functionality, it is good practice to break up sections of the code into functions that have specific jobs. This process is called ***refactoring***. Refactoring makes the code cleaner, easier to understand, and easier to extend."
      ]
    },
    {
      "cell_type": "code",
      "execution_count": null,
      "metadata": {
        "id": "EaxKfCUdsoET"
      },
      "outputs": [],
      "source": [
        "# Example: Refactor the previous example into a function\n",
        "\n",
        "def greet_user():\n",
        "    \"\"\"Greet the user by name.\"\"\"\n",
        "    \n",
        "    filename = \"username.json\"\n",
        "    \n",
        "    try:\n",
        "        with open(filename) as f_obj:\n",
        "            username = json.load(f_obj)\n",
        "\n",
        "    except FileNotFoundError:\n",
        "        username = input(\"What is your name? \")\n",
        "        with open(filename, 'w') as f_obj:\n",
        "            json.dump(username, f_obj)\n",
        "            print(\"We'll remember you when you come back, \" + username + \"!\")\n",
        "\n",
        "    else:\n",
        "        print(\"Welcome back, \" + username + \"!\")"
      ]
    },
    {
      "cell_type": "code",
      "execution_count": null,
      "metadata": {
        "id": "fMYJtIaKsoEU"
      },
      "outputs": [],
      "source": [
        "# use the \"greet_user\" function created\n",
        "greet_user()"
      ]
    },
    {
      "cell_type": "code",
      "execution_count": null,
      "metadata": {
        "id": "xwEhgieWsoEU"
      },
      "outputs": [],
      "source": [
        "# Example: Refactor the code to create a function for retrieving a stored username\n",
        "#          Update \"greet_user\" to include new function\n",
        "\n",
        "def get_stored_username():\n",
        "    \"\"\"Get stored username if available.\"\"\"\n",
        "    \n",
        "    filename = \"username.json\"\n",
        "    \n",
        "    try:\n",
        "        with open(filename) as f_obj:\n",
        "            username = json.load(f_obj)\n",
        "\n",
        "    except FileNotFoundError:\n",
        "        return None\n",
        "    else:\n",
        "        return username\n",
        "\n",
        "\n",
        "def greet_user():\n",
        "    \"\"\"Greet the user by name.\"\"\"\n",
        "    \n",
        "    # username will store whatever value is returned from \"get_stored_username\" function\n",
        "    username = get_stored_username()\n",
        "    \n",
        "    # check if there is at least one item/character (not None) in \"username\"\n",
        "    if username:\n",
        "        print(\"Welcome back, \" + username + \"!\")\n",
        "    \n",
        "    # if there was \"None\", then prompt for new name and store it in file\n",
        "    else:\n",
        "        username = input(\"What is your name? \")\n",
        "        \n",
        "        filename = \"username.json\"\n",
        "        with open(filename, 'w') as f_obj:\n",
        "            json.dump(username, f_obj)\n",
        "            print(\"We'll remember you when you come back, \" + username + \"!\")"
      ]
    },
    {
      "cell_type": "code",
      "execution_count": null,
      "metadata": {
        "id": "EZYEYvttsoEU"
      },
      "outputs": [],
      "source": [
        "# try program with \"get_stored_username()\" refactoring\n",
        "greet_user()"
      ]
    },
    {
      "cell_type": "code",
      "execution_count": null,
      "metadata": {
        "id": "hJC8pKyPsoEU"
      },
      "outputs": [],
      "source": [
        "# Example: Refactor section of code that prompts for a new username and stores information in file; update \"greet_user\"\n",
        "\n",
        "def get_stored_username():\n",
        "    \"\"\"Get stored username if available.\"\"\"\n",
        "    \n",
        "    filename = \"username.json\"\n",
        "    \n",
        "    try:\n",
        "        with open(filename) as f_obj:\n",
        "            username = json.load(f_obj)\n",
        "\n",
        "    except FileNotFoundError:\n",
        "        return None\n",
        "    else:\n",
        "        return username\n",
        "\n",
        "    \n",
        "def get_new_username():\n",
        "    \"\"\"Prompt for a new username.\"\"\"\n",
        "    \n",
        "    username = input(\"What is your name? \")\n",
        "        \n",
        "    filename = \"username.json\"\n",
        "    with open(filename, 'w') as f_obj:\n",
        "        json.dump(username, f_obj)\n",
        "        \n",
        "    # after \"username\" has been stored, send the value to where the function is called\n",
        "    return username\n",
        "\n",
        "\n",
        "def greet_user():\n",
        "    \"\"\"Greet the user by name.\"\"\"\n",
        "    \n",
        "    username = get_stored_username()\n",
        "    \n",
        "    if username:\n",
        "        print(\"Welcome back, \" + username + \"!\")\n",
        "    \n",
        "    # username will store value returned from \"get_new_username\" function; used to display message to user\n",
        "    else:\n",
        "        username = get_new_username()\n",
        "        print(\"We'll remember you when you come back, \" + username + \"!\")"
      ]
    },
    {
      "cell_type": "code",
      "execution_count": null,
      "metadata": {
        "id": "u-YthiDPsoEU"
      },
      "outputs": [],
      "source": [
        "# try fully refactored program\n",
        "greet_user()"
      ]
    },
    {
      "cell_type": "markdown",
      "metadata": {
        "id": "3gvLMELPsoEV"
      },
      "source": [
        "**NOTE:** Try deleting the `username.json` file to test that the program correctly prompts for a new username when the file does not exist.\n",
        "\n",
        "Each function in the final version of this program has a single, clear purpose. `greet_user()` will welcome back an existing user or greets a new user. It does this by first calling `get_stored_username()` which is responsible for retrieving a username if one exists in the file, otherwise it will return `None`. `greet_user()` will do a check to see if a value (other than `None`) was returned from `get_stored_username` and if so, it will welcome back the user. However, if the value returned was `None`, then `greet_user()` will call `get_new_username` and prompt the user for a mew username and then store it in a file. Finally, `greet_user` will then used the value returned from `get_new_username` to let the user know that it will remember them when they return."
      ]
    }
  ],
  "metadata": {
    "kernelspec": {
      "display_name": "Python 3",
      "language": "python",
      "name": "python3"
    },
    "language_info": {
      "codemirror_mode": {
        "name": "ipython",
        "version": 3
      },
      "file_extension": ".py",
      "mimetype": "text/x-python",
      "name": "python",
      "nbconvert_exporter": "python",
      "pygments_lexer": "ipython3",
      "version": "3.7.3"
    },
    "colab": {
      "name": "Ch_10_Files_Exceptions.ipynb",
      "provenance": [],
      "include_colab_link": true
    }
  },
  "nbformat": 4,
  "nbformat_minor": 0
}