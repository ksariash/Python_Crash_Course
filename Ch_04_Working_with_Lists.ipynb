{
  "cells": [
    {
      "cell_type": "markdown",
      "metadata": {
        "id": "view-in-github",
        "colab_type": "text"
      },
      "source": [
        "<a href=\"https://colab.research.google.com/github/ksariash/Python_Crash_Course/blob/main/Ch_04_Working_with_Lists.ipynb\" target=\"_parent\"><img src=\"https://colab.research.google.com/assets/colab-badge.svg\" alt=\"Open In Colab\"/></a>"
      ]
    },
    {
      "cell_type": "markdown",
      "metadata": {
        "id": "-9YGx928skxY"
      },
      "source": [
        "# Chapter 4 Workig with Lists"
      ]
    },
    {
      "cell_type": "markdown",
      "metadata": {
        "id": "wyDBuSIuskxe"
      },
      "source": [
        "## Looping Through an Entire List\n",
        "- In Python, lists are indicated by a pair of square brackets (`[]`) and each item (individual element) is separated in the list by a comma. \n",
        "\n",
        "- You’ll often want to run through all entries in a list, performing the same task with each item. For these cases we use  Python’s for loop."
      ]
    },
    {
      "cell_type": "code",
      "execution_count": null,
      "metadata": {
        "id": "qdBB4dv9skxf"
      },
      "outputs": [],
      "source": [
        "# Let’s use a for loop to print out each name in a list of magicians:\n",
        "magicians = ['alice', 'david', 'carolina']\n",
        "for magician in magicians:\n",
        "    print(magician)"
      ]
    },
    {
      "cell_type": "markdown",
      "metadata": {
        "id": "xPEhPg39skxh"
      },
      "source": [
        "### Doing More Work Within a for Loop\n",
        "- You can also write as many lines of code as you like in the `for loop`.\n",
        "- Every indented line following the line for magician in magicians is considered inside the loop, and each indented line is executed once for each value in the list."
      ]
    },
    {
      "cell_type": "code",
      "execution_count": null,
      "metadata": {
        "id": "QJ_CJc-fskxi"
      },
      "outputs": [],
      "source": [
        "magicians = ['alice', 'david', 'carolina']"
      ]
    },
    {
      "cell_type": "code",
      "execution_count": null,
      "metadata": {
        "id": "PRS8TzEOskxj"
      },
      "outputs": [],
      "source": [
        "for magician in magicians:\n",
        "    print(magician.title() + \", that was a great trick!\")\n",
        "    print(\"I can't wait to see your next trick, \" + magician.title() + \".\\n\")"
      ]
    },
    {
      "cell_type": "markdown",
      "metadata": {
        "id": "bZPpVH7Tskxj"
      },
      "source": [
        "**Because** we have `indented` both print statements, each line will be executed\n",
        "once for every magician in the list. \n",
        "**The newline** `(\"\\n\")` in the second\n",
        "print statement inserts a blank line after each pass through the loop."
      ]
    },
    {
      "cell_type": "markdown",
      "metadata": {
        "id": "Z4eQ_bovskxk"
      },
      "source": [
        "### Doing something after a for Loop"
      ]
    },
    {
      "cell_type": "code",
      "execution_count": null,
      "metadata": {
        "id": "zx31hMYfskxn"
      },
      "outputs": [],
      "source": [
        "for magician in magicians:\n",
        "    print(magician.title() + \", that was a great trick!\")\n",
        "    print(\"I can't wait to see your next trick, \" + magician.title() + \".\\n\")\n",
        "    \n",
        "print(\"Thank you, everyone. That was a great magic show!\")"
      ]
    },
    {
      "cell_type": "markdown",
      "metadata": {
        "id": "cwaPOJVhskxo"
      },
      "source": [
        "### Avoiding idententation errors\n",
        "#### - Forgetting to Indent Additional Lines\n",
        "**This** is a `logical error`. The syntax is valid Python code, but the code does\n",
        "not produce the desired result because a problem occurs in its logic.\n"
      ]
    },
    {
      "cell_type": "code",
      "execution_count": null,
      "metadata": {
        "id": "jjmC59T8skxp"
      },
      "outputs": [],
      "source": [
        "for magician in magicians:\n",
        "    print(magician.title() + \", that was a great trick!\")\n",
        "print(\"I can't wait to see your next trick, \" + magician.title() + \".\\n\")\n",
        "    \n",
        "print(\"Thank you, everyone. That was a great magic show!\")"
      ]
    },
    {
      "cell_type": "markdown",
      "metadata": {
        "id": "Vqx6SnEaskxq"
      },
      "source": [
        "#### - Indenting Unnecessarily\n",
        "If you `accidentally indent a line` that doesn’t need to be indented, Python\n",
        "informs you about the unexpected indent:"
      ]
    },
    {
      "cell_type": "code",
      "execution_count": null,
      "metadata": {
        "id": "mESe3DNQskxq"
      },
      "outputs": [],
      "source": [
        "message = \"Hello Python world!\"\n",
        "    print(message)"
      ]
    },
    {
      "cell_type": "markdown",
      "metadata": {
        "id": "zw6Dgyojskxr"
      },
      "source": [
        "#### - Indenting Unnecessarily After the Loop"
      ]
    },
    {
      "cell_type": "code",
      "execution_count": null,
      "metadata": {
        "id": "raxc0YxCskxr"
      },
      "outputs": [],
      "source": [
        "magicians = ['alice', 'david', 'carolina']\n",
        "for magician in magicians:\n",
        "    print(magician.title() + \", that was a great trick!\")\n",
        "    print(\"I can't wait to see your next trick, \" + magician.title() + \".\\n\")\n",
        "    print(\"Thank you everyone, that was a great magic show!\")"
      ]
    },
    {
      "cell_type": "markdown",
      "metadata": {
        "id": "EPUR3HXeskxr"
      },
      "source": [
        "### Forgetting the Colon\n",
        "`The colon` at the end of a for statement tells Python to interpret the next\n",
        "line as the start of a loop."
      ]
    },
    {
      "cell_type": "code",
      "execution_count": null,
      "metadata": {
        "id": "Zu3Ci2Ojskxs"
      },
      "outputs": [],
      "source": [
        "magicians = ['alice', 'david', 'carolina']\n",
        "for magician in magicians\n",
        "    print(magician)"
      ]
    },
    {
      "cell_type": "markdown",
      "metadata": {
        "id": "hmcHFmCMskxs"
      },
      "source": [
        "### Making Numerical Lists\n",
        "#### Using the range() Function\n",
        "-  Python’s `range()` function makes it easy to generate a series of numbers.\n",
        "-  You can use the `range()` function to print a series of numbers."
      ]
    },
    {
      "cell_type": "code",
      "execution_count": null,
      "metadata": {
        "id": "I9bbBnjyskxv"
      },
      "outputs": [],
      "source": [
        "# The output never contains the end value, which would have been 5 in this case.\n",
        "for value in range(1,5):\n",
        "    print(value)"
      ]
    },
    {
      "cell_type": "markdown",
      "metadata": {
        "id": "yruZUsYZskxw"
      },
      "source": [
        "#### Using range() to Make a List of Numbers\n",
        "If you want to make a `list of numbers`, you can convert the results of `range()`\n",
        "directly into a list using the `list() function`. When you wrap `list()` around a\n",
        "call to the `range()` function, the output will be a list of numbers."
      ]
    },
    {
      "cell_type": "code",
      "execution_count": null,
      "metadata": {
        "id": "TmiwrZ0zskxx"
      },
      "outputs": [],
      "source": [
        "# If you want to make a list of numbers, you can convert the results of range()\n",
        "# directly into a list using the list() function\n",
        "\n",
        "numbers = list(range(1,6))\n",
        "print(numbers)"
      ]
    },
    {
      "cell_type": "code",
      "execution_count": null,
      "metadata": {
        "id": "_MS9xqm7skxy"
      },
      "outputs": [],
      "source": [
        "# We can also use the range() function to tell Python to skip numbers in a given range\n",
        "even_numbers = list(range(2,11,2))\n",
        "print(even_numbers)"
      ]
    },
    {
      "cell_type": "code",
      "execution_count": null,
      "metadata": {
        "id": "xztXD9HHskxy"
      },
      "outputs": [],
      "source": [
        "# Make a list of the first 10 square numbers (that is, the square of each integer from 1 through 10). In\n",
        "# Python, two asterisks (**) represent exponents\n",
        "squares = []\n",
        "\n",
        "for value in range(1,11):\n",
        "    # the square of each integer\n",
        "    # the current value is raised to the second power and stored in the variable square\n",
        "    square = value**2\n",
        "    squares.append(square)\n",
        "    \n",
        "print(squares)"
      ]
    },
    {
      "cell_type": "markdown",
      "metadata": {
        "id": "sajNyY5Sskxz"
      },
      "source": [
        "### Simple Statistics with a List of Numbers"
      ]
    },
    {
      "cell_type": "code",
      "execution_count": null,
      "metadata": {
        "id": "KwLU1FkKskxz"
      },
      "outputs": [],
      "source": [
        "digits = [1, 2, 3, 4, 5, 6, 7, 8, 9, 0]\n",
        "\n",
        "print(min(digits))\n",
        "print(max(digits))\n",
        "print(sum(digits))"
      ]
    },
    {
      "cell_type": "markdown",
      "metadata": {
        "id": "uuP6rb4Kskxz"
      },
      "source": [
        "### List Comprehensions\n",
        "A `list comprehension` allows you to generate\n",
        "this same list in just one line of code. A list comprehension combines the\n",
        "`for loop` and the creation of new elements into one line, and `automatically appends` each new element."
      ]
    },
    {
      "cell_type": "code",
      "execution_count": null,
      "metadata": {
        "id": "TAPHSMZJskxz"
      },
      "outputs": [],
      "source": [
        "# the current value is raised to the second power and stored in the list \"listSquares\" \n",
        "listSquares = [value**2 for value in range(1,11)]\n",
        "print(listSquares)"
      ]
    },
    {
      "cell_type": "markdown",
      "metadata": {
        "id": "SLZAEVaeskx0"
      },
      "source": [
        "### Working with Part of a List\n",
        "#### Slicing a List\n",
        "to make a `slice`, you specify the index of the first and last elements you want to work with."
      ]
    },
    {
      "cell_type": "code",
      "execution_count": null,
      "metadata": {
        "id": "Iv76kJYVskx0"
      },
      "outputs": [],
      "source": [
        "# list of players\n",
        "players = ['charles', 'martina', 'michael', 'florence', 'eli']\n",
        "print(players[0:3])"
      ]
    },
    {
      "cell_type": "markdown",
      "metadata": {
        "id": "gj-6aJp8skx0"
      },
      "source": [
        "#### Looping Through a Slice\n",
        "- You can use a `slice` in a for loop if you want to loop through a subset of the elements in a list"
      ]
    },
    {
      "cell_type": "code",
      "execution_count": null,
      "metadata": {
        "id": "vzQz-RjAskx0"
      },
      "outputs": [],
      "source": [
        "players = ['charles', 'martina', 'michael', 'florence', 'eli']\n",
        "print(\"Here are the first three players on my team:\")\n",
        "\n",
        "# If you omit the first index in a slice, Python automatically starts your slice at the beginning of the list\n",
        "for player in players[:3]:\n",
        "    print(player.title())"
      ]
    },
    {
      "cell_type": "code",
      "execution_count": null,
      "metadata": {
        "id": "G9XHDDC7skx1"
      },
      "outputs": [],
      "source": [
        "# if you want all items from the third item through the last item, you can start with index 2 and omit the second index\n",
        "players = ['charles', 'martina', 'michael', 'florence', 'eli']\n",
        "print(players[2:])"
      ]
    },
    {
      "cell_type": "code",
      "execution_count": null,
      "metadata": {
        "id": "yG0AMknuskx1"
      },
      "outputs": [],
      "source": [
        "# If we want to output the last three elements in the list, we can use the slice\n",
        "players = ['charles', 'martina', 'michael', 'florence', 'eli']\n",
        "print(players[-3:])"
      ]
    },
    {
      "cell_type": "markdown",
      "metadata": {
        "id": "WP5NghLhskx1"
      },
      "source": [
        "### Copying a List\n",
        "- Often, you’ll want to start with an existing list and make an entirely new list based on the first one.\n",
        "- We can make a slice that includes the entire original list\n",
        "by omitting the first index and the second index ([:])."
      ]
    },
    {
      "cell_type": "code",
      "execution_count": null,
      "metadata": {
        "id": "WVndgVrQskx1"
      },
      "outputs": [],
      "source": [
        "my_foods = ['pizza', 'falafel', 'carrot cake']\n",
        "\n",
        "friend_foods = my_foods[:]\n",
        "\n",
        "# This doesn't work:\n",
        "# friend_foods = my_foods\n",
        "\n",
        "print(\"My favorite foods are:\")\n",
        "print(my_foods)\n",
        "print(\"\\nMy friend's favorite foods are:\")\n",
        "print(friend_foods)"
      ]
    },
    {
      "cell_type": "code",
      "execution_count": null,
      "metadata": {
        "id": "7CEIYURUskx2"
      },
      "outputs": [],
      "source": [
        "print(friend_foods)\n",
        "print(my_foods)"
      ]
    },
    {
      "cell_type": "code",
      "execution_count": null,
      "metadata": {
        "id": "OGTqnDR8skx2"
      },
      "outputs": [],
      "source": [
        "#Both are separate lists\n",
        "my_foods.append('cannoli')\n",
        "friend_foods.append('ice cream')"
      ]
    },
    {
      "cell_type": "code",
      "execution_count": null,
      "metadata": {
        "id": "kxbZzGmsskx2"
      },
      "outputs": [],
      "source": [
        "print(friend_foods)\n",
        "print(my_foods)"
      ]
    },
    {
      "cell_type": "code",
      "execution_count": null,
      "metadata": {
        "id": "yJlCmy42skx3"
      },
      "outputs": [],
      "source": [
        "friend_foods[-4]"
      ]
    },
    {
      "cell_type": "markdown",
      "metadata": {
        "id": "AWBLpUFSskx4"
      },
      "source": [
        "### Tuples\n",
        "- `Tuples` are identical to lists in all respects, except for the following properties:\n",
        "- `Tuples` are defined by enclosing the elements in parentheses `()` instead of square brackets `[]`.\n",
        "- `Tuples` are immutable."
      ]
    },
    {
      "cell_type": "code",
      "execution_count": null,
      "metadata": {
        "id": "YtmcyfNfskx4"
      },
      "outputs": [],
      "source": [
        "dimensions = (200, 50)\n",
        "print(dimensions[0])\n",
        "print(dimensions[1])"
      ]
    },
    {
      "cell_type": "code",
      "execution_count": null,
      "metadata": {
        "id": "fUEUyBalskx5"
      },
      "outputs": [],
      "source": [
        "# Let’s see what happens if we try to change one of the items in the tuple dimensions:\n",
        "dimensions[0] = 250"
      ]
    },
    {
      "cell_type": "code",
      "execution_count": null,
      "metadata": {
        "id": "NhwUtNn2skx5"
      },
      "outputs": [],
      "source": [
        "dimensions = (200, 50,40,20)"
      ]
    },
    {
      "cell_type": "markdown",
      "metadata": {
        "id": "tfchNeEaskx5"
      },
      "source": [
        "###  Supports negative indexing for `tuples`\n",
        "Negative indexing starts from the end of the `tuple`. It can sometimes be more convenient to use negative indexing\n",
        "to get the last item in a tuple because you don’t have to know the length of a tuple to access the last item."
      ]
    },
    {
      "cell_type": "code",
      "execution_count": null,
      "metadata": {
        "id": "3_e3nYyAskx6"
      },
      "outputs": [],
      "source": [
        "dimensions[-2]"
      ]
    },
    {
      "cell_type": "code",
      "execution_count": null,
      "metadata": {
        "id": "PSOs-Farskx6"
      },
      "outputs": [],
      "source": [
        "dimensions[2]"
      ]
    },
    {
      "cell_type": "markdown",
      "metadata": {
        "id": "FUjGuTeoskx6"
      },
      "source": [
        "### Looping Through All Values in a Tuple"
      ]
    },
    {
      "cell_type": "code",
      "execution_count": null,
      "metadata": {
        "id": "bWoYj6Qmskx6"
      },
      "outputs": [],
      "source": [
        "dimensions = (200, 50)\n",
        "# Python returns all the elements in the tuple, just as it would for a list:\n",
        "for dimension in dimensions:\n",
        "    print(dimension)"
      ]
    },
    {
      "cell_type": "markdown",
      "metadata": {
        "id": "d6_KlmQ0skx7"
      },
      "source": [
        "### Writing over a Tuple\n",
        "Although we can’t modify a `tuple`, we can assign a new value to a variable that holds a tuple. So if we wanted to change our tuple, we could redefine it."
      ]
    },
    {
      "cell_type": "code",
      "execution_count": null,
      "metadata": {
        "id": "cwjfuH93skx7"
      },
      "outputs": [],
      "source": [
        "dimensions = (200, 50)\n",
        "print(\"Original dimensions:\")\n",
        "for dimension in dimensions:\n",
        "    print(dimension)\n"
      ]
    },
    {
      "cell_type": "code",
      "execution_count": null,
      "metadata": {
        "id": "v5NJ6hctskx7"
      },
      "outputs": [],
      "source": [
        "dimensions = (400, 100)\n",
        "print(\"\\nModified dimensions:\")\n",
        "for dimension in dimensions:\n",
        "    print(dimension)"
      ]
    },
    {
      "cell_type": "markdown",
      "metadata": {
        "id": "bbcPsvGmskx8"
      },
      "source": [
        "### Defyning a tuple with one value\n",
        "It is important to keep in mind that if you want to create a `tuple` containing only one value,\n",
        "you need a trailing comma after your item.\n"
      ]
    },
    {
      "cell_type": "code",
      "execution_count": null,
      "metadata": {
        "id": "crd7zbJhskx8"
      },
      "outputs": [],
      "source": [
        "# tuple with one value\n",
        "isTuple = ('Michael',)\n",
        "print(tup1)"
      ]
    },
    {
      "cell_type": "code",
      "execution_count": null,
      "metadata": {
        "id": "PRT0x3Huskx-"
      },
      "outputs": [],
      "source": [
        "type(isTuple)"
      ]
    },
    {
      "cell_type": "code",
      "execution_count": null,
      "metadata": {
        "id": "_vjzn-dYskx-"
      },
      "outputs": [],
      "source": [
        "notTuple = ('Michael')\n",
        "print(notTuple)"
      ]
    },
    {
      "cell_type": "code",
      "execution_count": null,
      "metadata": {
        "id": "dVXrJG5Kskx_"
      },
      "outputs": [],
      "source": [
        "type(notTuple)"
      ]
    }
  ],
  "metadata": {
    "kernelspec": {
      "display_name": "Python 3",
      "language": "python",
      "name": "python3"
    },
    "language_info": {
      "codemirror_mode": {
        "name": "ipython",
        "version": 3
      },
      "file_extension": ".py",
      "mimetype": "text/x-python",
      "name": "python",
      "nbconvert_exporter": "python",
      "pygments_lexer": "ipython3",
      "version": "3.7.4"
    },
    "colab": {
      "name": "Ch_04_Working_with_Lists.ipynb",
      "provenance": [],
      "include_colab_link": true
    }
  },
  "nbformat": 4,
  "nbformat_minor": 0
}