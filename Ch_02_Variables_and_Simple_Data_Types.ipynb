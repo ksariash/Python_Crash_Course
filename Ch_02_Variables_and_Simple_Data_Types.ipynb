{
  "cells": [
    {
      "cell_type": "markdown",
      "metadata": {
        "id": "view-in-github",
        "colab_type": "text"
      },
      "source": [
        "<a href=\"https://colab.research.google.com/github/ksariash/Python_Crash_Course/blob/main/Ch_02_Variables_and_Simple_Data_Types.ipynb\" target=\"_parent\"><img src=\"https://colab.research.google.com/assets/colab-badge.svg\" alt=\"Open In Colab\"/></a>"
      ]
    },
    {
      "cell_type": "markdown",
      "metadata": {
        "id": "ys-yQfeFsjqR"
      },
      "source": [
        "# Chapter 2 - Variables and Simple Data Types"
      ]
    },
    {
      "cell_type": "markdown",
      "metadata": {
        "id": "CfGZOFyAsjqV"
      },
      "source": [
        "## Variables\n",
        "\n",
        "A value is the information that can be used in a program, such as text or numbers. Values can be stored in ***variables***, which can be used multiple times throughout a program. Variables are useful because if a value changes, everywhere the variable appears will be updated with the new value. If a value were directly typed into a program without being stored in a variable then anytime the value is updated, the programmer would have to manually update it everywhere the value was used.\n",
        "\n",
        "The way Python stores a value to a variable is by using the ***assignment operator***, which is a single equal sign (`=`). The code format goes like this: `variable_name = value_to_store`. The variable that will hold the value is on the left side of the assignment operator, and the value that will be stored is on the right side of the assignment operator.\n",
        "\n",
        "To see what value is stored in a variable, use the `print(variable_name)` function. The name of the variable goes inside the parentheses of the `print()` function and when the program is run, `print()` will display the value assigned to that variable. (***Hint***: As you develop more \n",
        "\n",
        "### Naming and Using Variables\n",
        "\n",
        "**Rules & Guidelines**\n",
        "- Variables names can only contain letters, numbers, and underscores. They can start with a letter or underscore but **not** with a number. (Example: `message_1` is okay, `1_message` is not)\n",
        "- Spaces are not allowed in variable names, but underscores can be used to separate words into variable names. (Example: `greeting_message` works but `greeting message` will cause an error)\n",
        "- Avoid using Python keywords and function names as variable names, such as the word `print`. These are reserved for particular programming purposes.\n",
        "- Variable names should be short but descriptive. (Example: `name` is better than `n`, `student_name` is better than `s_n`, and `name_length` is better than `length_of_persons_name`)\n",
        "- Be careful when using the lowercase letter `l` and the uppercase letter `O` because they could be confused with the numbers `1` and `0`."
      ]
    },
    {
      "cell_type": "code",
      "execution_count": null,
      "metadata": {
        "id": "dGrzdqV3sjqX"
      },
      "outputs": [],
      "source": [
        "# value is the text \"Hello Python world!\"\n",
        "# variable is \"message\"\n",
        "message = \"Hello Python world!\"\n",
        "\n",
        "# \"print\" function will show the output of what is stored in variable\n",
        "print(message)"
      ]
    },
    {
      "cell_type": "code",
      "execution_count": null,
      "metadata": {
        "id": "0-LrUuQysjqY"
      },
      "outputs": [],
      "source": [
        "# code from previous example\n",
        "message = \"Hello Python world!\"\n",
        "print(message)\n",
        "\n",
        "# replace the variable \"message\" with a new value\n",
        "# new value is text \"Hello Python Crash Course world!\"\n",
        "message = \"Hello Python Crash Course world!\"\n",
        "\n",
        "# the new value will show in the print output\n",
        "print(message)"
      ]
    },
    {
      "cell_type": "markdown",
      "metadata": {
        "id": "8F9eSzUZsjqZ"
      },
      "source": [
        "The old and new values showed in the output because Python executes its code tasks in top-to-bottom order. First it set the value \"Hello Python world!\" to the variable `message`, then showed the output using the `print` function. Next, it stored the text \"Hello Python Crash Course world!\" to the variable `message` (and therefore, replacing the old value that was stored in that variable) and printed the value."
      ]
    },
    {
      "cell_type": "markdown",
      "metadata": {
        "id": "MGBp9_U8sjqa"
      },
      "source": [
        "### Avoid Name Errors\n",
        "\n",
        "Python is case-sensitive and does not correct misspelled variables, functions, or keywords. A `NameError` is the result of Python trying to find its memory of the variable name being defined (when it was first created to store a value) in the code but the name does not exist."
      ]
    },
    {
      "cell_type": "code",
      "execution_count": null,
      "metadata": {
        "id": "InZv91a-sjqa"
      },
      "outputs": [],
      "source": [
        "message = \"Hello Python Crash Course reader!\"\n",
        "\n",
        "# variable name is missing an \"s\"\n",
        "print(mesage)"
      ]
    },
    {
      "cell_type": "markdown",
      "metadata": {
        "id": "YRuQuJwksjqb"
      },
      "source": [
        "## Strings\n",
        "\n",
        "Strings are a series of characters, and are defined by being inside a set of quotation marks. In Python, single or double quotes can be used for a string."
      ]
    },
    {
      "cell_type": "code",
      "execution_count": null,
      "metadata": {
        "id": "fnXKRQMFsjqc"
      },
      "outputs": [],
      "source": [
        "# string with double quotes\n",
        "\"This is a string.\"\n",
        "\n",
        "#string with single quotes\n",
        "'This is also a string.'"
      ]
    },
    {
      "cell_type": "code",
      "execution_count": null,
      "metadata": {
        "id": "CugVWxAKsjqc"
      },
      "outputs": [],
      "source": [
        "# double quotation marks for dialogue used in single quote string\n",
        "'I told my friend, \"Python is my favorite language!\"'\n",
        "\n",
        "# single quotation marks in double quote string\n",
        "\"The language 'Python' is named after Monty Python, not the snake.\"\n",
        "\n",
        "# use apostrophe in double quote string\n",
        "\"One of Python's strengths is its diverse and supportive community.\""
      ]
    },
    {
      "cell_type": "markdown",
      "metadata": {
        "id": "Q3_9dAPWsjqd"
      },
      "source": [
        "### Change Case of Letters in String\n",
        "\n",
        "- `.title()`: changes to title casing; the first letter of each word becomes uppercase\n",
        "- `.upper()`: changes all letters to uppercase\n",
        "- `.lower()`: changes all letters to lowercase"
      ]
    },
    {
      "cell_type": "code",
      "execution_count": null,
      "metadata": {
        "id": "Lrq5cX-Hsjqd"
      },
      "outputs": [],
      "source": [
        "# define a variable \"name\" with the string value \"ada lovelace\"\n",
        "name = \"ada lovelace\"\n",
        "\n",
        "# will title case to \"Ada Lovelace\"\n",
        "print(name.title())"
      ]
    },
    {
      "cell_type": "code",
      "execution_count": null,
      "metadata": {
        "id": "CbvhYI8Bsjqe"
      },
      "outputs": [],
      "source": [
        "# all uppercase letters \"ADA LOVELACE\"\n",
        "print(name.upper())"
      ]
    },
    {
      "cell_type": "code",
      "execution_count": null,
      "metadata": {
        "id": "yL4JnqOIsjqe"
      },
      "outputs": [],
      "source": [
        "# all lowercase letters \"ada lovelace\"\n",
        "print(name.lower())"
      ]
    },
    {
      "cell_type": "markdown",
      "metadata": {
        "id": "7AgwjOVEsjqe"
      },
      "source": [
        "### Combining Strings (Concatenation)"
      ]
    },
    {
      "cell_type": "code",
      "execution_count": null,
      "metadata": {
        "id": "BRquY0lWsjqf"
      },
      "outputs": [],
      "source": [
        "# defined two variables, \"first_name\" and \"last_name\"\n",
        "first_name = \"ada\"\n",
        "last_name = \"lovelace\"\n",
        "\n",
        "# combine the variables' values separated by a space\n",
        "# whitespace is also a string\n",
        "# save results to a new variable \"full_name\"\n",
        "full_name = first_name + \" \" + last_name\n",
        "\n",
        "# show output of value stored in \"full_name\"\n",
        "print(full_name)"
      ]
    },
    {
      "cell_type": "code",
      "execution_count": null,
      "metadata": {
        "id": "s298WRjVsjqf"
      },
      "outputs": [],
      "source": [
        "# print a message using the value stored in the variable\n",
        "print(\"Hello, \" + full_name.title() + \"!\")"
      ]
    },
    {
      "cell_type": "code",
      "execution_count": null,
      "metadata": {
        "id": "Sw-jo8C9sjqf"
      },
      "outputs": [],
      "source": [
        "# define each variable for first and last name\n",
        "first_name = \"ada\"\n",
        "last_name = \"lovelace\"\n",
        "\n",
        "#concatenate into full name\n",
        "full_name = first_name + \" \" + last_name\n",
        "\n",
        "# store message to user in a variable called \"message\"\n",
        "message = \"Hello, \" + full_name.title() + \"!\"\n",
        "\n",
        "# print the value in the message variable\n",
        "print(message)"
      ]
    },
    {
      "cell_type": "markdown",
      "metadata": {
        "id": "WsWiioFTsjqf"
      },
      "source": [
        "### Add Tab Spaces or Newlines\n",
        "\n",
        "Whitespaces are nonprinting characters, such as spaces, tabs, and end-of-line symbols.\n",
        "\n",
        "- `\\t`: tabbed space\n",
        "- `\\n`: newline (move to the next line)"
      ]
    },
    {
      "cell_type": "code",
      "execution_count": null,
      "metadata": {
        "id": "eAvw-mBlsjqg"
      },
      "outputs": [],
      "source": [
        "# show string \"Python\"\n",
        "print(\"Python\")\n",
        "\n",
        "# show string \"Python\" with a tab space in front\n",
        "print(\"\\tPython\")"
      ]
    },
    {
      "cell_type": "code",
      "execution_count": null,
      "metadata": {
        "id": "9j3lbjvYsjqg"
      },
      "outputs": [],
      "source": [
        "# show \"Python\", \"C\", and \"JavaScript\" on separate lines\n",
        "print(\"Languages:\\nPython\\nC\\nJavaScript\")"
      ]
    },
    {
      "cell_type": "code",
      "execution_count": null,
      "metadata": {
        "id": "NF3G0Uq5sjqg"
      },
      "outputs": [],
      "source": [
        "# show each language on separate lines with a tab space in front\n",
        "print(\"Languages:\\n\\tPython\\n\\tC\\n\\tJavaScript\")"
      ]
    },
    {
      "cell_type": "markdown",
      "metadata": {
        "id": "rvUpfgD5sjqg"
      },
      "source": [
        "### Removing Whitespace\n",
        "\n",
        "When a string is printed without its quotation marks, text such as `'python'` or `'python '` can look the same. However for a Python program, those strings are completely different. Understanding whitespace is important because in the case of doing string matching (checking to see if the value stored in a variable matches a particular string), hidden extra whitespace can cause confusion for a programmer and/or a user.\n",
        "\n",
        "There are three ways to remove extra whitespace in a string (not including spaces between words):\n",
        "- `.rstrip()`: removes whitespace from the right end of a string\n",
        "- `.lstrip()`: removes whitespace from the left end of a string\n",
        "- `.strip()`: removes whitespace from both ends of a string"
      ]
    },
    {
      "cell_type": "code",
      "execution_count": null,
      "metadata": {
        "id": "GjGPfdbNsjqk"
      },
      "outputs": [],
      "source": [
        "# set variable containing string text with extra whitespace\n",
        "favorite_language = ' python '\n",
        "\n",
        "# show string with whitespace on both sides\n",
        "favorite_language"
      ]
    },
    {
      "cell_type": "code",
      "execution_count": null,
      "metadata": {
        "id": "CWTM-eJpsjqk"
      },
      "outputs": [],
      "source": [
        "# remove whitespace from the right side of string\n",
        "favorite_language.rstrip()"
      ]
    },
    {
      "cell_type": "code",
      "execution_count": null,
      "metadata": {
        "id": "cYBNVEk8sjql"
      },
      "outputs": [],
      "source": [
        "# remove whitespace from the left side of string\n",
        "favorite_language.lstrip()"
      ]
    },
    {
      "cell_type": "code",
      "execution_count": null,
      "metadata": {
        "id": "I81pLjXjsjql"
      },
      "outputs": [],
      "source": [
        "# remove whitespace from both sides\n",
        "favorite_language.strip()"
      ]
    },
    {
      "cell_type": "code",
      "execution_count": null,
      "metadata": {
        "id": "MblLaCqqsjql"
      },
      "outputs": [],
      "source": [
        "# replace old value with new value of removed whitespace\n",
        "favorite_language = favorite_language.strip()\n",
        "\n",
        "favorite_language"
      ]
    },
    {
      "cell_type": "markdown",
      "metadata": {
        "id": "bjkcmCossjql"
      },
      "source": [
        "### Avoid Syntax Errors\n",
        "\n",
        "A `SyntaxError` occurs when Python does not recognize a portion of the program as valid Python code."
      ]
    },
    {
      "cell_type": "code",
      "execution_count": null,
      "metadata": {
        "id": "ari53cONsjql"
      },
      "outputs": [],
      "source": [
        "# string of text has an apostrophe\n",
        "message = 'One of Python's strengths is its diverse community.'"
      ]
    },
    {
      "cell_type": "markdown",
      "metadata": {
        "id": "O0g8WNlHsjql"
      },
      "source": [
        "**What Happened?** <br>\n",
        "Python assumed the apostrophe was the end of a single quotation mark pair. However, that leaves the real quotation mark from the pair by itself as the start of a second string with no text after it. Because the text in between is not inside of string quotes, Python is incorrectly interpreting it as variables and keywords (`is`), and is confused by the syntax (grammatical structure of a program)."
      ]
    },
    {
      "cell_type": "markdown",
      "metadata": {
        "id": "ajwcW8RDsjqm"
      },
      "source": [
        "## Numbers\n",
        "\n",
        "Numbers in Python can be used in different ways and are interpreted depending on how they are used."
      ]
    },
    {
      "cell_type": "markdown",
      "metadata": {
        "id": "07VgTPySsjqm"
      },
      "source": [
        "### Integers\n",
        "\n",
        "You can do mathmatical operations on integers in Python. Below are some common mathmatical expressions:\n",
        "\n",
        "- `+`: addition\n",
        "- `-`: subtraction\n",
        "- `*`: multiplication\n",
        "- `/`: division\n",
        "- `**`: exponential power"
      ]
    },
    {
      "cell_type": "code",
      "execution_count": null,
      "metadata": {
        "id": "n_msifk1sjqm"
      },
      "outputs": [],
      "source": [
        "# add the numbers 2 and 3\n",
        "2 + 3"
      ]
    },
    {
      "cell_type": "code",
      "execution_count": null,
      "metadata": {
        "id": "Cw5dFS4qsjqm"
      },
      "outputs": [],
      "source": [
        "# subtract the numbers 3 and 2\n",
        "3 - 2"
      ]
    },
    {
      "cell_type": "code",
      "execution_count": null,
      "metadata": {
        "id": "yJ2w1DIxsjqm"
      },
      "outputs": [],
      "source": [
        "# multiply the numbers 2 and 3\n",
        "2 * 3"
      ]
    },
    {
      "cell_type": "code",
      "execution_count": null,
      "metadata": {
        "id": "MjIEOu8Csjqn"
      },
      "outputs": [],
      "source": [
        "# divide the numbers 3 and 2\n",
        "3 / 2"
      ]
    },
    {
      "cell_type": "code",
      "execution_count": null,
      "metadata": {
        "id": "FGH7VsAKsjqn"
      },
      "outputs": [],
      "source": [
        "# number 3 raised to the 2nd power (squared)\n",
        "3 ** 2"
      ]
    },
    {
      "cell_type": "markdown",
      "metadata": {
        "id": "wD6ma_oDsjqn"
      },
      "source": [
        "Python obeys the order of operations:\n",
        "\n",
        "**P**arentheses <br>\n",
        "**E**xponents <br>\n",
        "**M**ultiplication <br>\n",
        "**D**ivision <br>\n",
        "**A**ddition <br>\n",
        "**S**ubtraction"
      ]
    },
    {
      "cell_type": "code",
      "execution_count": null,
      "metadata": {
        "id": "Q-sxN25Gsjqn"
      },
      "outputs": [],
      "source": [
        "# 3 times 4 will calculate first, then add 2\n",
        "2 + 3 * 4"
      ]
    },
    {
      "cell_type": "code",
      "execution_count": null,
      "metadata": {
        "id": "LY2vybKFsjqn"
      },
      "outputs": [],
      "source": [
        "# 2 plus 3 will calculate first, then multiply by 4\n",
        "(2 + 3) * 4"
      ]
    },
    {
      "cell_type": "markdown",
      "metadata": {
        "id": "6qjSUQ3isjqn"
      },
      "source": [
        "### Floats\n",
        "\n",
        "Decimal value numbers are called a ***float*** in Python. It refers to the fact that a decimal point can appear at any position in a number. The mathmatical operations used on integers can also be applied to floats."
      ]
    },
    {
      "cell_type": "code",
      "execution_count": null,
      "metadata": {
        "id": "IJMO1J2Esjqo"
      },
      "outputs": [],
      "source": [
        "# addition\n",
        "0.1 + 0.1"
      ]
    },
    {
      "cell_type": "code",
      "execution_count": null,
      "metadata": {
        "id": "9ikzIJ4Osjqo"
      },
      "outputs": [],
      "source": [
        "# multiplication\n",
        "0.1 * 2"
      ]
    },
    {
      "cell_type": "code",
      "execution_count": null,
      "metadata": {
        "id": "E1eEGuonsjqo"
      },
      "outputs": [],
      "source": [
        "# this will have arbitrary number of decimal places\n",
        "0.2 + 0.1"
      ]
    },
    {
      "cell_type": "markdown",
      "metadata": {
        "id": "lzD-KaiUsjqo"
      },
      "source": [
        "The result from the code above is common in several programming languages; they attempt to represent some decimal values as precisely as possible. This is not too concerning unless working with very small and extremely precise numbers (which will have other methods of dealing with this imprecision)."
      ]
    },
    {
      "cell_type": "markdown",
      "metadata": {
        "id": "F4M0jFj0sjqo"
      },
      "source": [
        "### Avoid Type Errors\n",
        "\n",
        "A `TypeError` occurs when two or more values are data types that cannot be used together."
      ]
    },
    {
      "cell_type": "code",
      "execution_count": null,
      "metadata": {
        "id": "M4EbCxbhsjqo"
      },
      "outputs": [],
      "source": [
        "age = 23\n",
        "message = \"Happy \" + age + \"rd birthday!\"\n",
        "\n",
        "print(message)"
      ]
    },
    {
      "cell_type": "markdown",
      "metadata": {
        "id": "sN9xRDdlsjqo"
      },
      "source": [
        "**What Happened?** <br>\n",
        "In Python, strings and integers cannot be directly combined. That is because although string types can concatenate as a new string value, number types use the addition sign to combine together into a new numerical value. In order to use numbers and strings together, the number must be converted into a string type. The `str()` function will take a value and make it into a string type."
      ]
    },
    {
      "cell_type": "code",
      "execution_count": null,
      "metadata": {
        "id": "-9isSEe8sjqp"
      },
      "outputs": [],
      "source": [
        "age = 23\n",
        "\n",
        "# use the str() function to turn integer into string\n",
        "# this allows all the values to concatenate properly\n",
        "message = \"Happy \" + str(age) + \"rd birthday!\"\n",
        "\n",
        "print(message)"
      ]
    },
    {
      "cell_type": "markdown",
      "metadata": {
        "id": "OyznpcL8sjqp"
      },
      "source": [
        "## Comments\n",
        "\n",
        "Comments are notes in the code ignored by the program interpreter. In Python, comments are indicated by a hash mark (`#`). For programs that become lengthy and more complex, comments are a good practice to use to explain the tasks within the code. Not only are comments useful for other developers that will read a program for bug fixes or maintenance updates, but also for the developer creating the program to remember the details if they have not looked at the code in some time. It's easier to write too many comments and then remove unnecessary ones later."
      ]
    },
    {
      "cell_type": "code",
      "execution_count": null,
      "metadata": {
        "id": "xrNJDGRgsjqp"
      },
      "outputs": [],
      "source": [
        "# this is a comment and will be ignored\n",
        "print(\"Hello Python people!\")"
      ]
    },
    {
      "cell_type": "markdown",
      "metadata": {
        "id": "8RG-MDBasjqp"
      },
      "source": [
        "## The Zen of Python"
      ]
    },
    {
      "cell_type": "code",
      "execution_count": null,
      "metadata": {
        "id": "Cts9Npzfsjqp"
      },
      "outputs": [],
      "source": [
        "import this"
      ]
    }
  ],
  "metadata": {
    "kernelspec": {
      "display_name": "Python 3",
      "language": "python",
      "name": "python3"
    },
    "language_info": {
      "codemirror_mode": {
        "name": "ipython",
        "version": 3
      },
      "file_extension": ".py",
      "mimetype": "text/x-python",
      "name": "python",
      "nbconvert_exporter": "python",
      "pygments_lexer": "ipython3",
      "version": "3.7.3"
    },
    "colab": {
      "name": "Ch_02_Variables_and_Simple_Data_Types.ipynb",
      "provenance": [],
      "include_colab_link": true
    }
  },
  "nbformat": 4,
  "nbformat_minor": 0
}