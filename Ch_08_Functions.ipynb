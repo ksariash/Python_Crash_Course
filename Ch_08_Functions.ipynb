{
  "cells": [
    {
      "cell_type": "markdown",
      "metadata": {
        "id": "view-in-github",
        "colab_type": "text"
      },
      "source": [
        "<a href=\"https://colab.research.google.com/github/ksariash/Python_Crash_Course/blob/main/Ch_08_Functions.ipynb\" target=\"_parent\"><img src=\"https://colab.research.google.com/assets/colab-badge.svg\" alt=\"Open In Colab\"/></a>"
      ]
    },
    {
      "cell_type": "markdown",
      "metadata": {
        "id": "WK9AioshsngC"
      },
      "source": [
        "# Chapter 8 - Functions\n",
        "\n",
        "Functions are named blocks of code that are designed for one specific job. When you want to do the tasks that were created in the function, you ***call*** the name of the function. This helps for doing the same tasks multiple times throughout the program without typing the same code block again. Using functions makes it easy to write, read, test, and fix programs."
      ]
    },
    {
      "cell_type": "markdown",
      "metadata": {
        "id": "s0mckUxgsngI"
      },
      "source": [
        "## Defining a Function\n",
        "\n",
        "The keyword `def` indicates to Python when a function is being created (defined). The function definition tells Python the name of the function and, if applicable, what kind of information the function needs to execute its tasks. The definition then ends in a colon. (Example: `def function_name(values):`)\n",
        "\n",
        "Any indented lines after the definition are the ***body*** of the function. These are the tasks that execute when the function is called. The first line of the body enclosed in triple quotation marks is called a ***docstring***, which describes what the function does."
      ]
    },
    {
      "cell_type": "code",
      "execution_count": null,
      "metadata": {
        "id": "j6Ww1bm4sngO"
      },
      "outputs": [],
      "source": [
        "# create a defined function called \"greet_user\"\n",
        "# empty parentheses means that this function does not need additional information\n",
        "\n",
        "def greet_user():\n",
        "    # this is the docstring to describe the function's tasks\n",
        "    \"\"\"Display a simple greeting.\"\"\"\n",
        "    \n",
        "    # the function will print out the message \"Hello!\"\n",
        "    print(\"Hello!\")"
      ]
    },
    {
      "cell_type": "code",
      "execution_count": null,
      "metadata": {
        "id": "3doFjhNwsngP"
      },
      "outputs": [],
      "source": [
        "# now the function will be called to run its tasks\n",
        "greet_user()"
      ]
    },
    {
      "cell_type": "markdown",
      "metadata": {
        "id": "7bb1J-mXsngQ"
      },
      "source": [
        "### Passing Information to a Function\n",
        "\n",
        "By passing information to a function, the function can then do additional tasks with those values. In the definition for a function, a variable can be used to hold the place of where a value will be filled in when the function is called. The information that is used within a function is called an ***argument*** or ***parameter*** (the terms can be used interchangeably). "
      ]
    },
    {
      "cell_type": "code",
      "execution_count": null,
      "metadata": {
        "id": "c9KZ7e7TsngR"
      },
      "outputs": [],
      "source": [
        "# 'username' will hold the place for a value\n",
        "def greet_user(username):\n",
        "    \"\"\"Display a simple greeting.\"\"\"\n",
        "    \n",
        "    # the value will be used in this part of the code block\n",
        "    print(\"Hello, \" + username.title() + \"!\")"
      ]
    },
    {
      "cell_type": "code",
      "execution_count": null,
      "metadata": {
        "id": "AxKtm8aTsngS"
      },
      "outputs": [],
      "source": [
        "# call the function using the value \"jesse\"\n",
        "greet_user('jesse')"
      ]
    },
    {
      "cell_type": "markdown",
      "metadata": {
        "id": "fGmbxKgCsngT"
      },
      "source": [
        "## Passing Arguments\n",
        "\n",
        "Functions can have multiple parameters that can be passed in various ways."
      ]
    },
    {
      "cell_type": "markdown",
      "metadata": {
        "id": "nQwg47u_sngU"
      },
      "source": [
        "### Positional Arguments\n",
        "\n",
        "***Positional arguments*** require that the values used when a function is called must be passed in the same order that they occured in the definition."
      ]
    },
    {
      "cell_type": "code",
      "execution_count": null,
      "metadata": {
        "id": "-3mBpaOTsngV"
      },
      "outputs": [],
      "source": [
        "# the value for 'animal_type' must be passed first, then 'pet_name'\n",
        "def describe_pet(animal_type, pet_name):\n",
        "    \"\"\"Display information about a pet.\"\"\"\n",
        "    print(\"\\nI have a \" + animal_type + \".\")\n",
        "    print(\"My \" + animal_type + \"'s name is \" + pet_name.title() + \".\")"
      ]
    },
    {
      "cell_type": "code",
      "execution_count": null,
      "metadata": {
        "id": "WT0c9SDCsngW"
      },
      "outputs": [],
      "source": [
        "# \"hamster\" will be used in 'animal_type'\n",
        "# \"harry\" will be used in pet_name\n",
        "describe_pet('hamster', 'harry')"
      ]
    },
    {
      "cell_type": "markdown",
      "metadata": {
        "id": "qKh2lg87sngW"
      },
      "source": [
        "#### Multiple Function Calls\n",
        "\n",
        "Functions can be called as many times as needed and different values can be used each time the function is called."
      ]
    },
    {
      "cell_type": "code",
      "execution_count": null,
      "metadata": {
        "id": "QTT0MqkYsngX"
      },
      "outputs": [],
      "source": [
        "# using the function again but with different values\n",
        "describe_pet('dog', 'willie')"
      ]
    },
    {
      "cell_type": "markdown",
      "metadata": {
        "id": "WIfNO66CsngX"
      },
      "source": [
        "#### Order Matters in Positional Arguments\n",
        "\n",
        "If values are passed into a function in the incorrect order, the results may not come out as expected."
      ]
    },
    {
      "cell_type": "code",
      "execution_count": null,
      "metadata": {
        "id": "Vqq4nF9psngY"
      },
      "outputs": [],
      "source": [
        "# put pet name first, then animal type\n",
        "# incorrect value placement\n",
        "describe_pet('harry', 'hamster')"
      ]
    },
    {
      "cell_type": "markdown",
      "metadata": {
        "id": "fGv-zEV3sngY"
      },
      "source": [
        "### Keyword Arguments\n",
        "\n",
        "***Keyword arguments*** are name-value pairs that allow the ability to specify the values for an argument to the variable without causing confusion with position."
      ]
    },
    {
      "cell_type": "code",
      "execution_count": null,
      "metadata": {
        "id": "do0zhanTsngY"
      },
      "outputs": [],
      "source": [
        "# same 'describe_pet' function from above\n",
        "# set the values for the function to the variable names used in the definition\n",
        "describe_pet(animal_type='hamster', pet_name='harry')"
      ]
    },
    {
      "cell_type": "code",
      "execution_count": null,
      "metadata": {
        "id": "K4ZNqYY2snga"
      },
      "outputs": [],
      "source": [
        "# same info; order does not matter when using keywords\n",
        "describe_pet(pet_name='harry', animal_type='hamster')"
      ]
    },
    {
      "cell_type": "markdown",
      "metadata": {
        "id": "n3c0wP98sngb"
      },
      "source": [
        "### Default Values\n",
        "\n",
        "When writing a function, a ***default value*** can be set to a keyword. Once the function is called the value for that keyword does not need to be explicitly stated because it was already assigned in the definition but the value can also be temporarily changed.\n",
        "\n",
        "However, position still matters when using default values. Any arguments left over without default values need to come first in the parameter definitions. This allows Python to interpret positional arguments correctly if the keywords are not referenced."
      ]
    },
    {
      "cell_type": "code",
      "execution_count": null,
      "metadata": {
        "id": "TDtrcrpisngb"
      },
      "outputs": [],
      "source": [
        "# make \"dog\" the default value for 'animal_type'\n",
        "\n",
        "def describe_pet(pet_name, animal_type='dog'):\n",
        "    \"\"\"Display information about a pet.\"\"\"\n",
        "    print(\"\\nI have a \" + animal_type + \".\")\n",
        "    print(\"My \" + animal_type + \"'s name is \" + pet_name.title() + \".\")"
      ]
    },
    {
      "cell_type": "code",
      "execution_count": null,
      "metadata": {
        "id": "sN7vWAX8sngb"
      },
      "outputs": [],
      "source": [
        "# only 'pet_name' keyword needs a value\n",
        "describe_pet(pet_name='willie')"
      ]
    },
    {
      "cell_type": "code",
      "execution_count": null,
      "metadata": {
        "id": "MyKo9kYesngc"
      },
      "outputs": [],
      "source": [
        "# 'pet_name' value without calling keyword; uses position instead\n",
        "describe_pet('willie')"
      ]
    },
    {
      "cell_type": "code",
      "execution_count": null,
      "metadata": {
        "id": "niV2F01Asngc"
      },
      "outputs": [],
      "source": [
        "# temporarily change the value for 'animal_type' to \"hamster\"\n",
        "describe_pet(pet_name='harry', animal_type='hamster')"
      ]
    },
    {
      "cell_type": "markdown",
      "metadata": {
        "id": "wKrjSLsEsngc"
      },
      "source": [
        "### Equivalent Function Calls\n",
        "\n",
        "There are many equivalent ways to call positional arguments, keyword arguments, and default values together in a function. It does not matter which calling style is used, just as long as the function produces the correct output."
      ]
    },
    {
      "cell_type": "code",
      "execution_count": null,
      "metadata": {
        "id": "Me_jB9XUsngc"
      },
      "outputs": [],
      "source": [
        "# use same function from previous example\n",
        "# these function calls produce the same output\n",
        "\n",
        "describe_pet('willie')\n",
        "describe_pet(pet_name='willie')"
      ]
    },
    {
      "cell_type": "code",
      "execution_count": null,
      "metadata": {
        "id": "xaYHivWQsngd"
      },
      "outputs": [],
      "source": [
        "# same output for a hamster named Harry\n",
        "describe_pet('harry', 'hamster')\n",
        "describe_pet(pet_name='harry', animal_type='hamster')\n",
        "describe_pet(animal_type='hamster', pet_name='harry')"
      ]
    },
    {
      "cell_type": "markdown",
      "metadata": {
        "id": "-nAdwyepsngd"
      },
      "source": [
        "### Avoiding Argument Errors\n",
        "\n",
        "Unmatched argument errors occur when there are too many or too few arguments provided in the function to use."
      ]
    },
    {
      "cell_type": "code",
      "execution_count": null,
      "metadata": {
        "id": "raEHqnqYsngd"
      },
      "outputs": [],
      "source": [
        "# same function from previous example\n",
        "# try to use without parameters\n",
        "describe_pet()"
      ]
    },
    {
      "cell_type": "markdown",
      "metadata": {
        "id": "-GAK47IFsngd"
      },
      "source": [
        "**What Happened?** <br>\n",
        "Although `animal_type` already has a default value, `pet_name` does not and requires the value to be assigned when the function is called. But the function was called without any values assigned to `pet_name` and that is what caused the `TypeError`."
      ]
    },
    {
      "cell_type": "markdown",
      "metadata": {
        "id": "pPPTxLqgsnge"
      },
      "source": [
        "## Return Values\n",
        "\n",
        "Functions do not have to always display the output directly. Instead, the results of the code block (called the ***return value***) can be sent back to the line of code where the function was called. <br>\n",
        "\n",
        "Example: <br>\n",
        "`def function_name(argument_values):\n",
        "    block of code for tasks\n",
        "    return function_results`"
      ]
    },
    {
      "cell_type": "markdown",
      "metadata": {
        "id": "Nr8Fo1jRsnge"
      },
      "source": [
        "### Returning a Simple Value"
      ]
    },
    {
      "cell_type": "code",
      "execution_count": null,
      "metadata": {
        "id": "O-CY_NAgsnge"
      },
      "outputs": [],
      "source": [
        "# create a function that takes in 2 values\n",
        "\n",
        "def get_formatted_name(first_name, last_name):\n",
        "    \"\"\"Return a full name, neatly formatted.\"\"\"\n",
        "    # concatenate 'first_name' and 'last_name' values\n",
        "    full_name = first_name + \" \" + last_name\n",
        "    \n",
        "    # send back the results stored in 'full_name' in title casing\n",
        "    return full_name.title()"
      ]
    },
    {
      "cell_type": "code",
      "execution_count": null,
      "metadata": {
        "id": "e9TN4v6Lsnge"
      },
      "outputs": [],
      "source": [
        "# call the function then store the results in the variable \"musician\"\n",
        "musician = get_formatted_name('jimi', 'hendrix')"
      ]
    },
    {
      "cell_type": "code",
      "execution_count": null,
      "metadata": {
        "id": "KvdKGm5usnge"
      },
      "outputs": [],
      "source": [
        "print(musician)"
      ]
    },
    {
      "cell_type": "markdown",
      "metadata": {
        "id": "A-uhrQOSsngf"
      },
      "source": [
        "### Making an Argument Optional\n",
        "\n",
        "Arguments can be made optional if some users may not need to provide certain information."
      ]
    },
    {
      "cell_type": "code",
      "execution_count": null,
      "metadata": {
        "id": "3EibnkTAsngf"
      },
      "outputs": [],
      "source": [
        "# same function as previous example but with middle name added\n",
        "# this style does not give an option if there is no middle name\n",
        "\n",
        "def get_formatted_name(first_name, middle_name, last_name):\n",
        "    \"\"\"Return a full name, neatly formatted.\"\"\"\n",
        "    \n",
        "    full_name = first_name + \" \" + middle_name + \" \" + last_name\n",
        "    return full_name.title()"
      ]
    },
    {
      "cell_type": "code",
      "execution_count": null,
      "metadata": {
        "id": "LoWJG473sngf"
      },
      "outputs": [],
      "source": [
        "musician = get_formatted_name('john', 'lee', 'hooker')\n",
        "print(musician)"
      ]
    },
    {
      "cell_type": "code",
      "execution_count": null,
      "metadata": {
        "id": "Ry8vJsSBsngf"
      },
      "outputs": [],
      "source": [
        "# instead create the middle_name keyword set to a default value of an empty string\n",
        "def get_formatted_name(first_name, last_name, middle_name=''):\n",
        "    \"\"\"Return a full name, neatly formatted.\"\"\"\n",
        "    \n",
        "    # check if there is at least one character in the string\n",
        "    if middle_name:\n",
        "        full_name = first_name + \" \" + middle_name + \" \" + last_name\n",
        "    \n",
        "    #otherwise, if the string is empty\n",
        "    else:\n",
        "        full_name = first_name + \" \" + last_name\n",
        "    \n",
        "    return full_name.title()"
      ]
    },
    {
      "cell_type": "code",
      "execution_count": null,
      "metadata": {
        "id": "xKjPaJKksngg"
      },
      "outputs": [],
      "source": [
        "# call function without middle name\n",
        "musician = get_formatted_name('jimi', 'hendrix')\n",
        "print(musician)"
      ]
    },
    {
      "cell_type": "code",
      "execution_count": null,
      "metadata": {
        "id": "CxqO-Z16sngg"
      },
      "outputs": [],
      "source": [
        "# call function with middle name\n",
        "# middle name value must go last (positional argument)\n",
        "musician = get_formatted_name('john', 'hooker', 'lee')\n",
        "print(musician)"
      ]
    },
    {
      "cell_type": "markdown",
      "metadata": {
        "id": "u_zzt_q3sngg"
      },
      "source": [
        "### Returning a Dictionary\n",
        "\n",
        "A function can return any type of value, including data structures such as lists and dictionaries."
      ]
    },
    {
      "cell_type": "code",
      "execution_count": null,
      "metadata": {
        "id": "8K_i87s8sngg"
      },
      "outputs": [],
      "source": [
        "# create a function to build a dictionary of a person's attributes\n",
        "def build_person(first_name, last_name):\n",
        "    \"\"\"Return a dictionary with information about a person.\"\"\"\n",
        "    \n",
        "    # the variable \"person\" is a dictionary with 2 items\n",
        "    # the key \"first\" has the value in 'first_name'\n",
        "    # the key \"last\" has the value in 'last_name'\n",
        "    person = {'first': first_name, 'last': last_name}\n",
        "    \n",
        "    return person"
      ]
    },
    {
      "cell_type": "code",
      "execution_count": null,
      "metadata": {
        "id": "9Eu1ocBDsngh"
      },
      "outputs": [],
      "source": [
        "# the dictionary built in the function will be stored in the variable \"musician\"\n",
        "musician = build_person('jimi', 'hendrix')\n",
        "print(musician)"
      ]
    },
    {
      "cell_type": "code",
      "execution_count": null,
      "metadata": {
        "id": "lsoZhAAosngh"
      },
      "outputs": [],
      "source": [
        "# add in optional information to the function\n",
        "def build_person(first_name, last_name, age=''):\n",
        "    \"\"\"Return a dictionary with information about a person.\"\"\"\n",
        "    \n",
        "    person = {'first': first_name, 'last': last_name}\n",
        "    \n",
        "    # check if there is at least one character in \"age\"\n",
        "    if age:\n",
        "        # add a key called \"age\" to the dictionary\n",
        "        # then set the value to the item stored in variable 'age'\n",
        "        person['age'] = age\n",
        "        \n",
        "    return person"
      ]
    },
    {
      "cell_type": "code",
      "execution_count": null,
      "metadata": {
        "id": "0Z01D1ZOsngh"
      },
      "outputs": [],
      "source": [
        "# call function with 'age' keyword argument\n",
        "# output shows \"age\" key created in dictionary with value stored\n",
        "musician = build_person('jimi', 'hendrix', age=27)\n",
        "print(musician)"
      ]
    },
    {
      "cell_type": "markdown",
      "metadata": {
        "id": "6iJ-2Rq7sngh"
      },
      "source": [
        "### Using a Function with a `while` Loop\n",
        "\n",
        "Defined functions can incoporate all Python structures and functionality."
      ]
    },
    {
      "cell_type": "code",
      "execution_count": null,
      "metadata": {
        "id": "fgzUW0U8sngh"
      },
      "outputs": [],
      "source": [
        "# use previous 'get_formatted_name' function\n",
        "\n",
        "def get_formatted_name(first_name, last_name):\n",
        "    \"\"\"Return a full name, neatly formatted.\"\"\"\n",
        "    \n",
        "    full_name = first_name + \" \" + last_name\n",
        "    \n",
        "    return full_name.title()"
      ]
    },
    {
      "cell_type": "code",
      "execution_count": null,
      "metadata": {
        "id": "pq1OK1X8sngi"
      },
      "outputs": [],
      "source": [
        "# add a 'while' loop in the function\n",
        "# loop will continuously prompt users for name info\n",
        "# CAUTION: THIS IS AN INFINITE LOOP!!\n",
        "\n",
        "while True:\n",
        "    print(\"\\nPlease tell me your name:\")\n",
        "    f_name = input(\"First name: \")\n",
        "    l_name = input(\"Last name: \")\n",
        "    \n",
        "    formatted_name = get_formatted_name(f_name, l_name)\n",
        "    print(\"\\nHello, \" + formatted_name + \"!\")"
      ]
    },
    {
      "cell_type": "code",
      "execution_count": null,
      "metadata": {
        "id": "FdmUGh0Osngi"
      },
      "outputs": [],
      "source": [
        "# add a 'break' statement to exit the loop when users are finished\n",
        "\n",
        "while True:\n",
        "    print(\"\\nPlease tell me your name:\")\n",
        "    print(\"(enter 'q' at any time to quit)\")\n",
        "    \n",
        "    f_name = input(\"First name: \")\n",
        "    if f_name == 'q':\n",
        "        break\n",
        "    l_name = input(\"Last name: \")\n",
        "    if l_name == 'q':\n",
        "        break\n",
        "    \n",
        "    formatted_name = get_formatted_name(f_name, l_name)\n",
        "    print(\"\\nHello, \" + formatted_name + \"!\")"
      ]
    },
    {
      "cell_type": "markdown",
      "metadata": {
        "id": "kIB8WJu4sngi"
      },
      "source": [
        "## Passing a List\n",
        "\n",
        "A function can take in a list as a parameter and then use it the exact same way as in a normal code block."
      ]
    },
    {
      "cell_type": "code",
      "execution_count": null,
      "metadata": {
        "id": "wraaqLz3sngi"
      },
      "outputs": [],
      "source": [
        "# create a function that will take in a list using the variable 'names'\n",
        "def greet_users(names):\n",
        "    \"\"\"Print a simple greeting to each user in the list.\"\"\"\n",
        "    \n",
        "    # iterate through the list of names and use each name for a personalized greeting\n",
        "    for name in names:\n",
        "        msg = \"Hello, \" + name.title() + \"!\"\n",
        "        print(msg)"
      ]
    },
    {
      "cell_type": "code",
      "execution_count": null,
      "metadata": {
        "id": "OVe3-po-sngi"
      },
      "outputs": [],
      "source": [
        "usernames = ['hannah', 'ty', 'margot']\n",
        "\n",
        "greet_users(usernames)"
      ]
    },
    {
      "cell_type": "markdown",
      "metadata": {
        "id": "3NCyfM_Esngk"
      },
      "source": [
        "### Modifying a List in a Function\n",
        "\n",
        "Lists can also be modified while being used in a function. Any changes made to the list while in the function are permanent."
      ]
    },
    {
      "cell_type": "code",
      "execution_count": null,
      "metadata": {
        "id": "oaapEslasngk"
      },
      "outputs": [],
      "source": [
        "# list of model designs to be printed\n",
        "unprinted_designs = ['iphone case', 'robot pendant', 'dodecahedron']\n",
        "\n",
        "# empty list to store names of models that have been printed\n",
        "completed_models = []"
      ]
    },
    {
      "cell_type": "code",
      "execution_count": null,
      "metadata": {
        "id": "Lc2ZJO_qsngk"
      },
      "outputs": [],
      "source": [
        "# use 'while' loop to simulate printing of each design\n",
        "\n",
        "# while it is True that there is at least one item in unprinted_designs\n",
        "while unprinted_designs:\n",
        "    \n",
        "    # remove the last item from the list and store it in a variable\n",
        "    current_design = unprinted_designs.pop()\n",
        "    \n",
        "    # tell user the design is being printed\n",
        "    # then add printed design to `completed_models` list\n",
        "    print(\"Printing model: \" + current_design)\n",
        "    completed_models.append(current_design)\n",
        "    \n",
        "# show that all models have been printed\n",
        "print(\"\\nThe following models have been printed:\")\n",
        "\n",
        "# loop through each item in the list and display it\n",
        "for completed_model in completed_models:\n",
        "    print(completed_model)"
      ]
    },
    {
      "cell_type": "code",
      "execution_count": null,
      "metadata": {
        "id": "ajl8kVjSsngk"
      },
      "outputs": [],
      "source": [
        "# this list is now empty\n",
        "print(unprinted_designs)\n",
        "\n",
        "# this list had the values added\n",
        "print(completed_models)"
      ]
    },
    {
      "cell_type": "markdown",
      "metadata": {
        "id": "ifPEdWTjsngl"
      },
      "source": [
        "<br>\n",
        "The code can be reorganized into functions to do specific jobs. The first function will handle printing the designs, and the second function will summarize the prints that have been made.\n",
        "<br>\n",
        "<br>\n",
        "This version of the code makes it easier to extend and maintain than if the tasks were not put into functions. If more designs needed to be printed then `print_models` can be used on another list. Also, if the code in the function needs to be modified, then any changes made within the function will automatically apply wherever the function is called. This is more efficient than updating the code in several places throughout a program."
      ]
    },
    {
      "cell_type": "code",
      "execution_count": null,
      "metadata": {
        "id": "8qPcWM0psngl"
      },
      "outputs": [],
      "source": [
        "# create the first function to print the designs\n",
        "def print_models(unprinted_designs, completed_models):\n",
        "    \"\"\"\n",
        "    Simulate printing each design, until none are left.\n",
        "    Move each design to completed_models after printing.\n",
        "    \"\"\"\n",
        "    \n",
        "    while unprinted_designs:\n",
        "    \n",
        "        current_design = unprinted_designs.pop()\n",
        "\n",
        "        print(\"Printing model: \" + current_design)\n",
        "        completed_models.append(current_design)"
      ]
    },
    {
      "cell_type": "code",
      "execution_count": null,
      "metadata": {
        "id": "dTiFq_VLsngm"
      },
      "outputs": [],
      "source": [
        "# create the second function to show the completed models\n",
        "def show_completed_models(completed_models):\n",
        "    \"\"\"Show all the models that were printed.\"\"\"\n",
        "    \n",
        "    print(\"\\nThe following models have been printed:\")\n",
        "\n",
        "    for completed_model in completed_models:\n",
        "        print(completed_model)"
      ]
    },
    {
      "cell_type": "code",
      "execution_count": null,
      "metadata": {
        "id": "PesYjbaYsngm"
      },
      "outputs": [],
      "source": [
        "# same previous lists\n",
        "unprinted_designs = ['iphone case', 'robot pendant', 'dodecahedron']\n",
        "\n",
        "completed_models = []"
      ]
    },
    {
      "cell_type": "code",
      "execution_count": null,
      "metadata": {
        "id": "649bdf3bsngm"
      },
      "outputs": [],
      "source": [
        "# call first function\n",
        "print_models(unprinted_designs, completed_models)\n",
        "\n",
        "# call second function\n",
        "# variable 'completed_models' was modified from the first function\n",
        "show_completed_models(completed_models)"
      ]
    },
    {
      "cell_type": "markdown",
      "metadata": {
        "id": "EvyLnSy3sngm"
      },
      "source": [
        "### Preventing a Function from Modifying a List\n",
        "\n",
        "In the case that the original list that will be used in a function needs to be preserved without any changes, then a copy of the list can be sent to the function instead. (Example: `function_name(list_name[:])`) However, especially when working with large lists, it's more efficient to use the original version in the function because making a copy takes more time and memory."
      ]
    },
    {
      "cell_type": "code",
      "execution_count": null,
      "metadata": {
        "id": "u8xO-2zysngn"
      },
      "outputs": [],
      "source": [
        "# same previous lists\n",
        "unprinted_designs = ['iphone case', 'robot pendant', 'dodecahedron']\n",
        "\n",
        "completed_models = []"
      ]
    },
    {
      "cell_type": "code",
      "execution_count": null,
      "metadata": {
        "id": "ogNTHGZWsngn"
      },
      "outputs": [],
      "source": [
        "# use a copy of `unprinted_designs` in the first function\n",
        "print_models(unprinted_designs[:], completed_models)\n",
        "\n",
        "show_completed_models(completed_models)"
      ]
    },
    {
      "cell_type": "code",
      "execution_count": null,
      "metadata": {
        "id": "XD8D6HvPsngn"
      },
      "outputs": [],
      "source": [
        "# the original list is still preserved\n",
        "print(unprinted_designs)"
      ]
    },
    {
      "cell_type": "markdown",
      "metadata": {
        "id": "a3T7TKESsngn"
      },
      "source": [
        "## Passing an Arbitrary Number of Arguments\n",
        "\n",
        "If it is not known how many values a user will need for a particular argument in a function, then the syntax `def function_name(*keyword):` can be used. `*keyword` will store all the values passed into the function as a tuple which can then be operated on similarly to a list."
      ]
    },
    {
      "cell_type": "code",
      "execution_count": null,
      "metadata": {
        "id": "1xSTVqsosngn"
      },
      "outputs": [],
      "source": [
        "# use the *toppings keyword to take in multiple pizza topping values\n",
        "def make_pizza(*toppings):\n",
        "    \"\"\"Print the list of toppings that have been requested.\"\"\"\n",
        "    \n",
        "    # shows the full tuple of toppings\n",
        "    print(toppings)"
      ]
    },
    {
      "cell_type": "code",
      "execution_count": null,
      "metadata": {
        "id": "OvVOLCJtsngn"
      },
      "outputs": [],
      "source": [
        "# call the function with only one value for *toppings\n",
        "# still puts the value in a tuple\n",
        "make_pizza('pepperoni')"
      ]
    },
    {
      "cell_type": "code",
      "execution_count": null,
      "metadata": {
        "id": "0rwo1CdIsngo"
      },
      "outputs": [],
      "source": [
        "# store 3 values in the *toppings keyword tuple\n",
        "make_pizza('mushrooms', 'green peppers', 'extra cheese')"
      ]
    },
    {
      "cell_type": "code",
      "execution_count": null,
      "metadata": {
        "id": "idNJGiBksngo"
      },
      "outputs": [],
      "source": [
        "# set up the function to print each topping separately\n",
        "def make_pizza(*toppings):\n",
        "    \"\"\"Summarize the pizza we are about to make.\"\"\"\n",
        "    \n",
        "    print(\"\\nMaking a pizza with the following toppings:\")\n",
        "    \n",
        "    # iterate through each item in the tuple, then print\n",
        "    for topping in toppings:\n",
        "        print(\"- \" + topping)"
      ]
    },
    {
      "cell_type": "code",
      "execution_count": null,
      "metadata": {
        "id": "OOuimLTgsngo"
      },
      "outputs": [],
      "source": [
        "# list with one topping\n",
        "make_pizza('pepperoni')"
      ]
    },
    {
      "cell_type": "code",
      "execution_count": null,
      "metadata": {
        "id": "WOud4R4Hsngo"
      },
      "outputs": [],
      "source": [
        "# list with 3 toppings\n",
        "make_pizza('mushrooms', 'green peppers', 'extra cheese')"
      ]
    },
    {
      "cell_type": "markdown",
      "metadata": {
        "id": "lfngf0O4sngp"
      },
      "source": [
        "### Mixing Positional and Arbitrary Arguments\n",
        "\n",
        "When more than one type of argument will be used, the parameter that takes in an arbitrary number of arguments must go last in the function definition. Python matches positional and keyword arguments first then collects any remaining values in the final parameter."
      ]
    },
    {
      "cell_type": "code",
      "execution_count": null,
      "metadata": {
        "id": "5867coTksngp"
      },
      "outputs": [],
      "source": [
        "# this function will use two parameters\n",
        "def make_pizza(size, *toppings):\n",
        "    \"\"\"Summarize the pizza we are about to make.\"\"\"\n",
        "    \n",
        "    # tell the user the size of the pizza\n",
        "    # size is an 'int' type, so turn into string for concatenation\n",
        "    print(\"\\nMaking a \" + str(size) + \"-inch pizza with the following toppings:\")\n",
        "    \n",
        "    # then list the toppings for that pizza\n",
        "    for topping in toppings:\n",
        "        print(\"- \" + topping)"
      ]
    },
    {
      "cell_type": "code",
      "execution_count": null,
      "metadata": {
        "id": "NdHz3uNZsngp"
      },
      "outputs": [],
      "source": [
        "# 16-inch pizza w/ one topping\n",
        "make_pizza(16, 'pepperoni')"
      ]
    },
    {
      "cell_type": "code",
      "execution_count": null,
      "metadata": {
        "id": "NSvBLYX4sngp"
      },
      "outputs": [],
      "source": [
        "# 12-inch pizza with three toppings\n",
        "make_pizza(12, 'mushrooms', 'green peppers', 'extra cheese')"
      ]
    },
    {
      "cell_type": "markdown",
      "metadata": {
        "id": "M7pDEE9asngp"
      },
      "source": [
        "### Using Arbitrary Keyword Arguments\n",
        "\n",
        "Functions can also accept an arbitrary number of arguments, along with the value assigned to them (not to be confused with the values of the arguments on their own) using the syntax `def function_name(**arguments)`. Python will store the arguments as a dictionary, where the key is the argument keyword and the value will be the value assigned to the argument keyword when the function is called. (Example: `call_function_name(keyword1=value1, keyword2=value2)`)"
      ]
    },
    {
      "cell_type": "code",
      "execution_count": null,
      "metadata": {
        "id": "zzqBHGPxsngq"
      },
      "outputs": [],
      "source": [
        "# function to take in multiple characteristics for a person\n",
        "# 'user_info' stores information as a dictionary\n",
        "def build_profile(**user_info):\n",
        "    \"\"\"Build a dictionary containing everything we know about a user.\"\"\"\n",
        "    \n",
        "    # show dictionary of collected keyword, value pairs\n",
        "    print(user_info)"
      ]
    },
    {
      "cell_type": "code",
      "execution_count": null,
      "metadata": {
        "id": "s55TnoBpsngq"
      },
      "outputs": [],
      "source": [
        "build_profile(first='albert', last='einstein')"
      ]
    },
    {
      "cell_type": "code",
      "execution_count": null,
      "metadata": {
        "id": "hBo5erwasngq"
      },
      "outputs": [],
      "source": [
        "# function w/ positional arguments and can accept additional characteristics\n",
        "def build_profile(first, last, **user_info):\n",
        "    \"\"\"Build a dictionary containing everything we know about a user.\"\"\"\n",
        "    \n",
        "    # empty dictionary to hold values from parameters\n",
        "    profile = {}\n",
        "    \n",
        "    # build dictionary with 'first' and 'last' keyword values\n",
        "    profile['first name'] = first\n",
        "    profile['last name'] = last\n",
        "    \n",
        "    # iterate through the 'user_info' dictionary\n",
        "    # add argument keyword as 'key', argument value as 'value'\n",
        "    for key, value in user_info.items():\n",
        "        profile[key] = value\n",
        "    \n",
        "    # send the dictionary of user characteristics collected\n",
        "    return profile"
      ]
    },
    {
      "cell_type": "code",
      "execution_count": null,
      "metadata": {
        "id": "1k3wJkMdsngq"
      },
      "outputs": [],
      "source": [
        "# call function w/ first 2 positional arguments, then arbitrary keyword arguments last\n",
        "user_profile = build_profile('albert', 'einstein', \n",
        "                             location='princeton',\n",
        "                             field='physics')\n",
        "\n",
        "print(user_profile)"
      ]
    },
    {
      "cell_type": "markdown",
      "metadata": {
        "id": "SCu9dYx1sngq"
      },
      "source": [
        "## Storing Your Functions in Modules\n",
        "\n",
        "One of the advantages of functions is how it separates blocks of code away from the main program. By using descriptive names for the functions, the main program is much easier to follow. To take this a step further, the functions can be stored in a separate file, called a ***module***, and then importing the module into the main program. An `import` statement gives the currently running program file access to the code in a module."
      ]
    },
    {
      "cell_type": "markdown",
      "metadata": {
        "id": "za8kgF5Psngq"
      },
      "source": [
        "### Importing an Entire Module\n",
        "\n",
        "A module is a Python script file (`.py`) that contains the code of the functions you want to import into the program. To call a function from an imported module, type the name of the module followed by a dot, then the name of the function. (Example: `module_name.function_name(parameters)`)"
      ]
    },
    {
      "cell_type": "code",
      "execution_count": null,
      "metadata": {
        "id": "bpZKi8BPsngr"
      },
      "outputs": [],
      "source": [
        "# take the most recent 'make_pizza' function save to a file \"pizza.py\"\n",
        "\n",
        "# use the 'import' statement to access the functions in \"pizza.py\" file\n",
        "# name of module is file name w/o \".py\" extension\n",
        "import pizza"
      ]
    },
    {
      "cell_type": "code",
      "execution_count": null,
      "metadata": {
        "id": "rLRfUKVcsngr"
      },
      "outputs": [],
      "source": [
        "# from the 'pizza' module, use the 'make_pizza' function\n",
        "# also use the values for 'size' and '*toppings'\n",
        "pizza.make_pizza(16, 'pepperoni')"
      ]
    },
    {
      "cell_type": "code",
      "execution_count": null,
      "metadata": {
        "id": "R27rJcdUsngr"
      },
      "outputs": [],
      "source": [
        "# works with multiple toppings\n",
        "pizza.make_pizza(12, 'mushrooms', 'green peppers', 'extra cheese')"
      ]
    },
    {
      "cell_type": "markdown",
      "metadata": {
        "id": "J9n93Z3-sngr"
      },
      "source": [
        "### Importing Specific Functions\n",
        "\n",
        "If all the functions for a module are not needed, then only the necessary functions can be imported to the main program using the syntax `from module_name import function_name`. This also reduces typing out the module name when calling the function in the code.\n",
        "<br>\n",
        "<br>\n",
        "If several functions are needed, then they can be imported in succession. (Example: `from module_name import function1, function2, function3`)"
      ]
    },
    {
      "cell_type": "code",
      "execution_count": null,
      "metadata": {
        "id": "TRZLKQp0sngr"
      },
      "outputs": [],
      "source": [
        "# import the function\n",
        "from pizza import make_pizza"
      ]
    },
    {
      "cell_type": "code",
      "execution_count": null,
      "metadata": {
        "id": "kRiJI4eLsngr"
      },
      "outputs": [],
      "source": [
        "make_pizza(16, 'pepperoni')"
      ]
    },
    {
      "cell_type": "code",
      "execution_count": null,
      "metadata": {
        "id": "oY5zIxW4sngt"
      },
      "outputs": [],
      "source": [
        "make_pizza(12, 'mushrooms', 'green peppers', 'extra cheese')"
      ]
    },
    {
      "cell_type": "markdown",
      "metadata": {
        "id": "R42LfDuVsngt"
      },
      "source": [
        "### Using `as` to Give a Function an Alias\n",
        "\n",
        "If the name of an imported function will conflict with an existing name in the program or the imported function name is long, then it can be assigned an ***alias***, or nickname, an alternate name to refer to the function. (Example: `from module_name import function_name as fn`"
      ]
    },
    {
      "cell_type": "code",
      "execution_count": null,
      "metadata": {
        "id": "ncea3Wnosngu"
      },
      "outputs": [],
      "source": [
        "# import the 'make_pizza' with an alias\n",
        "from pizza import make_pizza as mp"
      ]
    },
    {
      "cell_type": "code",
      "execution_count": null,
      "metadata": {
        "id": "xDR7n03Asngu"
      },
      "outputs": [],
      "source": [
        "# alias name works with one topping\n",
        "mp(16, 'pepperoni')"
      ]
    },
    {
      "cell_type": "code",
      "execution_count": null,
      "metadata": {
        "id": "Ocn0_jM8sngu"
      },
      "outputs": [],
      "source": [
        "# use alias for function with three toppings\n",
        "mp(12, 'mushrooms', 'green peppers', 'extra cheese')"
      ]
    },
    {
      "cell_type": "markdown",
      "metadata": {
        "id": "CI1JN1kNsngu"
      },
      "source": [
        "### Using `as` to Give a Module an Alias\n",
        "\n",
        "A module can also have an alias, using the syntax `import module_name as mn`."
      ]
    },
    {
      "cell_type": "code",
      "execution_count": null,
      "metadata": {
        "id": "dTf-jRCpsngu"
      },
      "outputs": [],
      "source": [
        "# module 'pizza' assigned an alias\n",
        "import pizza as p"
      ]
    },
    {
      "cell_type": "code",
      "execution_count": null,
      "metadata": {
        "id": "HUb7HS4Tsngv"
      },
      "outputs": [],
      "source": [
        "# alias module name w/ 'make_pizza' function\n",
        "p.make_pizza(16, 'pepperoni')"
      ]
    },
    {
      "cell_type": "code",
      "execution_count": null,
      "metadata": {
        "id": "3ZvuujKjsngv"
      },
      "outputs": [],
      "source": [
        "p.make_pizza(12, 'mushrooms', 'green peppers', 'extra cheese')"
      ]
    },
    {
      "cell_type": "markdown",
      "metadata": {
        "id": "yFXwNZaJsngv"
      },
      "source": [
        "### Import All Functions in a Module\n",
        "\n",
        "The syntax `from module_name import *` tells Python to import all the functions from a module so that they can be used without using the dot notation to refer to the module first. However, it's best not to use this approach when working with larger modules that were created by another user; if the module has a function name that matches an existing name in the current project, then there can be some unexpected results. Python may see several functions or variables with the same name, and instead of importing the functions separately, it will overwrite the functions."
      ]
    },
    {
      "cell_type": "code",
      "execution_count": null,
      "metadata": {
        "id": "py6u05HQsngw"
      },
      "outputs": [],
      "source": [
        "# import all the functions from the 'pizza' module\n",
        "from pizza import *"
      ]
    },
    {
      "cell_type": "code",
      "execution_count": null,
      "metadata": {
        "id": "6PN1wiQmsngw"
      },
      "outputs": [],
      "source": [
        "make_pizza(16, 'pepperoni')"
      ]
    },
    {
      "cell_type": "code",
      "execution_count": null,
      "metadata": {
        "id": "DKex2kicsngw"
      },
      "outputs": [],
      "source": [
        "make_pizza(12, 'mushrooms', 'green peppers', 'extra cheese')"
      ]
    },
    {
      "cell_type": "markdown",
      "metadata": {
        "id": "rII5kMcysngw"
      },
      "source": [
        "## Styling Functions\n",
        "\n",
        "- Functions should have descriptive names, and these names should use lowercase letters and underscores. Descriptive names are useful for both the developer and others to understand what the code will do. Module names should use this convention as well.\n",
        "- Every function should have a comment that explains concisely what the function does. The comment should appear immediately after the function definition and use the docstring format. In a well-documented function, other programmers can use the function by reading only description in the docstring.\n",
        "- Default values specified in a parameter should have no spaces on either side of the equal sign (Example: `def function_name(parameter_0, parameter_1='default value')`. The same convention should be used for keyword arguments in function calls (Example: `def function_name(value_0, parameter_1='value')`.\n",
        "- [PEP 8](https://www.python.org/dev/peps/pep-0008/) recommends to limit lines of code up to 79 characters for visibility in most reasonably-sized editor windows. If a set of parameters causes a function's definition to be longer than 70 characters, press **ENTER** after the opening parenthesis on the definition line. Then press **TAB** twice to separate the list of arguments from the body of the function. <br>\n",
        "Example: `\n",
        "        def function_name(\n",
        "                parameter_0, parameter_1, parameter_2,\n",
        "                parameter_3, parameter_4, parameter_5):\n",
        "            function body...\n",
        "        `\n",
        "- If the function has more than one function, separate each by a blank line to make it easier to see the separation from where one ends and the other begins.\n",
        "- All `import` statements should be written at the beginning of a file. The only exception is if there are comments at the beginning of the file to describe the overall program."
      ]
    }
  ],
  "metadata": {
    "kernelspec": {
      "display_name": "Python 3",
      "language": "python",
      "name": "python3"
    },
    "language_info": {
      "codemirror_mode": {
        "name": "ipython",
        "version": 3
      },
      "file_extension": ".py",
      "mimetype": "text/x-python",
      "name": "python",
      "nbconvert_exporter": "python",
      "pygments_lexer": "ipython3",
      "version": "3.7.3"
    },
    "colab": {
      "name": "Ch_08_Functions.ipynb",
      "provenance": [],
      "include_colab_link": true
    }
  },
  "nbformat": 4,
  "nbformat_minor": 0
}